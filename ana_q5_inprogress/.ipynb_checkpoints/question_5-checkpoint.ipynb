{
 "cells": [
  {
   "cell_type": "code",
   "execution_count": 2,
   "id": "f5f2f9a3",
   "metadata": {},
   "outputs": [
    {
     "data": {
      "text/plain": [
       "'C:\\\\Users\\\\pauli\\\\OneDrive\\\\Documentos\\\\Classes 2023\\\\311_tech'"
      ]
     },
     "execution_count": 2,
     "metadata": {},
     "output_type": "execute_result"
    }
   ],
   "source": [
    "#set directory\n",
    "import os\n",
    "os.chdir(\"C:/Users/pauli/OneDrive/Documentos/Classes 2023/311_tech\")\n",
    "os.getcwd()"
   ]
  },
  {
   "cell_type": "code",
   "execution_count": 3,
   "id": "685d37a9",
   "metadata": {},
   "outputs": [],
   "source": [
    "import pandas as pd"
   ]
  },
  {
   "cell_type": "code",
   "execution_count": 4,
   "id": "902f3e87",
   "metadata": {},
   "outputs": [],
   "source": [
    "# Read the Excel file into a pandas dataframe\n",
    "df = pd.read_excel(\"salary_data_states.xlsx\")"
   ]
  },
  {
   "cell_type": "code",
   "execution_count": 5,
   "id": "48b4ed39",
   "metadata": {},
   "outputs": [
    {
     "data": {
      "text/html": [
       "<div>\n",
       "<style scoped>\n",
       "    .dataframe tbody tr th:only-of-type {\n",
       "        vertical-align: middle;\n",
       "    }\n",
       "\n",
       "    .dataframe tbody tr th {\n",
       "        vertical-align: top;\n",
       "    }\n",
       "\n",
       "    .dataframe thead th {\n",
       "        text-align: right;\n",
       "    }\n",
       "</style>\n",
       "<table border=\"1\" class=\"dataframe\">\n",
       "  <thead>\n",
       "    <tr style=\"text-align: right;\">\n",
       "      <th></th>\n",
       "      <th>CASE_NUMBER</th>\n",
       "      <th>CASE_STATUS</th>\n",
       "      <th>CASE_RECEIVED_DATE</th>\n",
       "      <th>DECISION_DATE</th>\n",
       "      <th>EMPLOYER_NAME</th>\n",
       "      <th>PREVAILING_WAGE_SUBMITTED</th>\n",
       "      <th>PREVAILING_WAGE_SUBMITTED_UNIT</th>\n",
       "      <th>PAID_WAGE_SUBMITTED</th>\n",
       "      <th>PAID_WAGE_SUBMITTED_UNIT</th>\n",
       "      <th>JOB_TITLE</th>\n",
       "      <th>...</th>\n",
       "      <th>PREVAILING_WAGE_SOC_TITLE</th>\n",
       "      <th>WORK_STATE</th>\n",
       "      <th>WORK_STATE_ABBREVIATION</th>\n",
       "      <th>WORK_POSTAL_CODE</th>\n",
       "      <th>FULL_TIME_POSITION_Y_N</th>\n",
       "      <th>VISA_CLASS</th>\n",
       "      <th>PREVAILING_WAGE_PER_YEAR</th>\n",
       "      <th>PAID_WAGE_PER_YEAR</th>\n",
       "      <th>JOB_TITLE_SUBGROUP</th>\n",
       "      <th>order</th>\n",
       "    </tr>\n",
       "  </thead>\n",
       "  <tbody>\n",
       "    <tr>\n",
       "      <th>0</th>\n",
       "      <td>I-200-14073-248840</td>\n",
       "      <td>denied</td>\n",
       "      <td>3/14/2014</td>\n",
       "      <td>3/21/2014</td>\n",
       "      <td>ADVANCED TECHNOLOGY GROUP USA, INC.</td>\n",
       "      <td>6217100.0</td>\n",
       "      <td>year</td>\n",
       "      <td>62171.0</td>\n",
       "      <td>year</td>\n",
       "      <td>SOFTWARE ENGINEER</td>\n",
       "      <td>...</td>\n",
       "      <td>Software Developers, Applications</td>\n",
       "      <td>Illinois</td>\n",
       "      <td>IL</td>\n",
       "      <td>NaN</td>\n",
       "      <td>y</td>\n",
       "      <td>H-1B</td>\n",
       "      <td>NaN</td>\n",
       "      <td>62171.0</td>\n",
       "      <td>software engineer</td>\n",
       "      <td>1</td>\n",
       "    </tr>\n",
       "    <tr>\n",
       "      <th>1</th>\n",
       "      <td>A-15061-55212</td>\n",
       "      <td>denied</td>\n",
       "      <td>3/19/2015</td>\n",
       "      <td>3/19/2015</td>\n",
       "      <td>SAN FRANCISCO STATE UNIVERSITY</td>\n",
       "      <td>5067600.0</td>\n",
       "      <td>year</td>\n",
       "      <td>91440.0</td>\n",
       "      <td>year</td>\n",
       "      <td>Assistant Professor of Marketing</td>\n",
       "      <td>...</td>\n",
       "      <td>Business Teachers, Postsecondary</td>\n",
       "      <td>California</td>\n",
       "      <td>CA</td>\n",
       "      <td>94132.0</td>\n",
       "      <td>NaN</td>\n",
       "      <td>greencard</td>\n",
       "      <td>NaN</td>\n",
       "      <td>91440.0</td>\n",
       "      <td>assistant professor</td>\n",
       "      <td>2</td>\n",
       "    </tr>\n",
       "    <tr>\n",
       "      <th>2</th>\n",
       "      <td>I-200-13256-001092</td>\n",
       "      <td>denied</td>\n",
       "      <td>9/13/2013</td>\n",
       "      <td>9/23/2013</td>\n",
       "      <td>CAROUSEL SCHOOL</td>\n",
       "      <td>4947000.0</td>\n",
       "      <td>year</td>\n",
       "      <td>49470.0</td>\n",
       "      <td>year</td>\n",
       "      <td>SPECIAL EDUCATION TEACHER</td>\n",
       "      <td>...</td>\n",
       "      <td>Special Education Teachers, Kindergarten and E...</td>\n",
       "      <td>California</td>\n",
       "      <td>CA</td>\n",
       "      <td>NaN</td>\n",
       "      <td>y</td>\n",
       "      <td>H-1B</td>\n",
       "      <td>NaN</td>\n",
       "      <td>49470.0</td>\n",
       "      <td>teacher</td>\n",
       "      <td>3</td>\n",
       "    </tr>\n",
       "    <tr>\n",
       "      <th>3</th>\n",
       "      <td>I-200-14087-353657</td>\n",
       "      <td>denied</td>\n",
       "      <td>3/28/2014</td>\n",
       "      <td>4/7/2014</td>\n",
       "      <td>HARLINGEN CONSOLIDATED INDEPENDENT SCHOOL DIST...</td>\n",
       "      <td>251052.0</td>\n",
       "      <td>month</td>\n",
       "      <td>43800.0</td>\n",
       "      <td>year</td>\n",
       "      <td>SCIENCE TEACHER</td>\n",
       "      <td>...</td>\n",
       "      <td>Biological Science Teachers, Postsecondary</td>\n",
       "      <td>Texas</td>\n",
       "      <td>TX</td>\n",
       "      <td>NaN</td>\n",
       "      <td>y</td>\n",
       "      <td>H-1B</td>\n",
       "      <td>NaN</td>\n",
       "      <td>43800.0</td>\n",
       "      <td>teacher</td>\n",
       "      <td>4</td>\n",
       "    </tr>\n",
       "    <tr>\n",
       "      <th>4</th>\n",
       "      <td>I-203-14259-128844</td>\n",
       "      <td>denied</td>\n",
       "      <td>9/16/2014</td>\n",
       "      <td>9/23/2014</td>\n",
       "      <td>SIGNAL SCIENCES CORPORATION</td>\n",
       "      <td>84573.0</td>\n",
       "      <td>bi-weekly</td>\n",
       "      <td>170000.0</td>\n",
       "      <td>year</td>\n",
       "      <td>SENIOR SOFTWARE ENGINEER</td>\n",
       "      <td>...</td>\n",
       "      <td>Software Developers, Systems Software</td>\n",
       "      <td>Oregon</td>\n",
       "      <td>OR</td>\n",
       "      <td>NaN</td>\n",
       "      <td>y</td>\n",
       "      <td>E-3 Australian</td>\n",
       "      <td>NaN</td>\n",
       "      <td>170000.0</td>\n",
       "      <td>software engineer</td>\n",
       "      <td>5</td>\n",
       "    </tr>\n",
       "  </tbody>\n",
       "</table>\n",
       "<p>5 rows × 27 columns</p>\n",
       "</div>"
      ],
      "text/plain": [
       "          CASE_NUMBER CASE_STATUS CASE_RECEIVED_DATE DECISION_DATE  \\\n",
       "0  I-200-14073-248840      denied          3/14/2014     3/21/2014   \n",
       "1       A-15061-55212      denied          3/19/2015     3/19/2015   \n",
       "2  I-200-13256-001092      denied          9/13/2013     9/23/2013   \n",
       "3  I-200-14087-353657      denied          3/28/2014      4/7/2014   \n",
       "4  I-203-14259-128844      denied          9/16/2014     9/23/2014   \n",
       "\n",
       "                                       EMPLOYER_NAME  \\\n",
       "0                ADVANCED TECHNOLOGY GROUP USA, INC.   \n",
       "1                     SAN FRANCISCO STATE UNIVERSITY   \n",
       "2                                    CAROUSEL SCHOOL   \n",
       "3  HARLINGEN CONSOLIDATED INDEPENDENT SCHOOL DIST...   \n",
       "4                        SIGNAL SCIENCES CORPORATION   \n",
       "\n",
       "   PREVAILING_WAGE_SUBMITTED PREVAILING_WAGE_SUBMITTED_UNIT  \\\n",
       "0                  6217100.0                           year   \n",
       "1                  5067600.0                           year   \n",
       "2                  4947000.0                           year   \n",
       "3                   251052.0                          month   \n",
       "4                    84573.0                      bi-weekly   \n",
       "\n",
       "   PAID_WAGE_SUBMITTED PAID_WAGE_SUBMITTED_UNIT  \\\n",
       "0              62171.0                     year   \n",
       "1              91440.0                     year   \n",
       "2              49470.0                     year   \n",
       "3              43800.0                     year   \n",
       "4             170000.0                     year   \n",
       "\n",
       "                          JOB_TITLE  ...  \\\n",
       "0                 SOFTWARE ENGINEER  ...   \n",
       "1  Assistant Professor of Marketing  ...   \n",
       "2         SPECIAL EDUCATION TEACHER  ...   \n",
       "3                   SCIENCE TEACHER  ...   \n",
       "4          SENIOR SOFTWARE ENGINEER  ...   \n",
       "\n",
       "                           PREVAILING_WAGE_SOC_TITLE  WORK_STATE  \\\n",
       "0                  Software Developers, Applications    Illinois   \n",
       "1                   Business Teachers, Postsecondary  California   \n",
       "2  Special Education Teachers, Kindergarten and E...  California   \n",
       "3         Biological Science Teachers, Postsecondary       Texas   \n",
       "4              Software Developers, Systems Software      Oregon   \n",
       "\n",
       "  WORK_STATE_ABBREVIATION WORK_POSTAL_CODE  FULL_TIME_POSITION_Y_N  \\\n",
       "0                      IL              NaN                       y   \n",
       "1                      CA          94132.0                     NaN   \n",
       "2                      CA              NaN                       y   \n",
       "3                      TX              NaN                       y   \n",
       "4                      OR              NaN                       y   \n",
       "\n",
       "       VISA_CLASS PREVAILING_WAGE_PER_YEAR PAID_WAGE_PER_YEAR  \\\n",
       "0            H-1B                      NaN            62171.0   \n",
       "1       greencard                      NaN            91440.0   \n",
       "2            H-1B                      NaN            49470.0   \n",
       "3            H-1B                      NaN            43800.0   \n",
       "4  E-3 Australian                      NaN           170000.0   \n",
       "\n",
       "    JOB_TITLE_SUBGROUP order  \n",
       "0    software engineer     1  \n",
       "1  assistant professor     2  \n",
       "2              teacher     3  \n",
       "3              teacher     4  \n",
       "4    software engineer     5  \n",
       "\n",
       "[5 rows x 27 columns]"
      ]
     },
     "execution_count": 5,
     "metadata": {},
     "output_type": "execute_result"
    }
   ],
   "source": [
    "df.head()"
   ]
  },
  {
   "cell_type": "code",
   "execution_count": 7,
   "id": "9d7227f7",
   "metadata": {},
   "outputs": [
    {
     "data": {
      "text/plain": [
       "Index(['CASE_NUMBER', 'CASE_STATUS', 'CASE_RECEIVED_DATE', 'DECISION_DATE',\n",
       "       'EMPLOYER_NAME', 'PREVAILING_WAGE_SUBMITTED',\n",
       "       'PREVAILING_WAGE_SUBMITTED_UNIT', 'PAID_WAGE_SUBMITTED',\n",
       "       'PAID_WAGE_SUBMITTED_UNIT', 'JOB_TITLE', 'WORK_CITY',\n",
       "       'EDUCATION_LEVEL_REQUIRED', 'COLLEGE_MAJOR_REQUIRED',\n",
       "       'EXPERIENCE_REQUIRED_Y_N', 'EXPERIENCE_REQUIRED_NUM_MONTHS',\n",
       "       'COUNTRY_OF_CITIZENSHIP', 'PREVAILING_WAGE_SOC_CODE',\n",
       "       'PREVAILING_WAGE_SOC_TITLE', 'WORK_STATE', 'WORK_STATE_ABBREVIATION',\n",
       "       'WORK_POSTAL_CODE', 'FULL_TIME_POSITION_Y_N', 'VISA_CLASS',\n",
       "       'PREVAILING_WAGE_PER_YEAR', 'PAID_WAGE_PER_YEAR', 'JOB_TITLE_SUBGROUP',\n",
       "       'order'],\n",
       "      dtype='object')"
      ]
     },
     "execution_count": 7,
     "metadata": {},
     "output_type": "execute_result"
    }
   ],
   "source": [
    "df.columns"
   ]
  },
  {
   "cell_type": "code",
   "execution_count": 23,
   "id": "f0a1d89c",
   "metadata": {},
   "outputs": [],
   "source": [
    "\n"
   ]
  },
  {
   "cell_type": "code",
   "execution_count": 25,
   "id": "ddb4683f",
   "metadata": {},
   "outputs": [
    {
     "data": {
      "text/plain": [
       "array(['software engineer', 'business analyst', 'management consultant',\n",
       "       'data analyst', 'data scientist'], dtype=object)"
      ]
     },
     "execution_count": 25,
     "metadata": {},
     "output_type": "execute_result"
    }
   ],
   "source": []
  },
  {
   "cell_type": "code",
   "execution_count": null,
   "id": "521cfc9a",
   "metadata": {},
   "outputs": [],
   "source": []
  },
  {
   "cell_type": "code",
   "execution_count": 26,
   "id": "a9a31350",
   "metadata": {},
   "outputs": [
    {
     "name": "stdout",
     "output_type": "stream",
     "text": [
      "Number of unique countries:  104\n"
     ]
    }
   ],
   "source": [
    "\n"
   ]
  },
  {
   "cell_type": "code",
   "execution_count": 10,
   "id": "65f6c14a",
   "metadata": {},
   "outputs": [
    {
     "data": {
      "text/plain": [
       "array([nan, 'IRAN', 'INDIA', 'FRANCE', 'JAPAN', 'TURKEY', 'CHINA',\n",
       "       'CHILE', 'AUSTRALIA', 'LEBANON', 'CANADA', 'GERMANY', 'SYRIA',\n",
       "       'PHILIPPINES', 'ISRAEL', 'SINGAPORE', 'ARGENTINA', 'HONG KONG',\n",
       "       'MALAYSIA', 'RUSSIA', 'UNITED KINGDOM', 'ROMANIA', 'EGYPT',\n",
       "       'NEW ZEALAND', 'SOUTH KOREA', 'PAKISTAN', 'NORWAY', 'POLAND',\n",
       "       'KUWAIT', 'IRELAND', 'MEXICO', 'TAIWAN', 'BULGARIA', 'BRAZIL',\n",
       "       'ARMENIA', 'BELARUS', 'COLOMBIA', 'GUATEMALA', 'THAILAND',\n",
       "       'VENEZUELA', 'DENMARK', 'SPAIN', 'NEPAL', 'JORDAN', 'PERU',\n",
       "       'UKRAINE', 'HUNGARY', 'BANGLADESH', 'SWEDEN', 'COSTA RICA',\n",
       "       'GREECE', 'SRI LANKA', 'SOUTH AFRICA', 'BELGIUM', 'PALESTINE',\n",
       "       'PORTUGAL', 'MONTENEGRO', 'SWITZERLAND', 'INDONESIA',\n",
       "       'CZECH REPUBLIC', 'AZERBAIJAN', 'CAMEROON', 'SAUDI ARABIA',\n",
       "       'UZBEKISTAN', 'ITALY', 'AUSTRIA', 'KENYA', 'NETHERLANDS',\n",
       "       'VIETNAM', 'ECUADOR', 'ESTONIA', 'UNITED STATES OF AMERICA',\n",
       "       'GEORGIA', 'SERBIA', 'NIGERIA', 'CROATIA', 'SLOVAKIA', 'BELIZE',\n",
       "       'ETHIOPIA', 'KAZAKHSTAN', 'UGANDA', 'TAJIKISTAN', 'HAITI',\n",
       "       'FINLAND', 'LITHUANIA', 'LATVIA', 'EL SALVADOR', 'MONGOLIA',\n",
       "       'LIBYA', 'MOROCCO', 'KYRGYZSTAN', 'UNITED ARAB EMIRATES',\n",
       "       'MACEDONIA', 'BURKINA FASO', 'MOLDOVA', 'GHANA', 'BURMA (MYANMAR)',\n",
       "       'SIERRA LEONE', 'DEMOCRATIC REPUBLIC OF CONGO', 'HONDURAS',\n",
       "       'BENIN', 'DOMINICAN REPUBLIC', 'TANZANIA', 'TUNISIA', 'ZIMBABWE',\n",
       "       'BERMUDA', 'JAMAICA', 'SERBIA AND MONTENEGRO',\n",
       "       'ANTIGUA AND BARBUDA', 'ICELAND', 'CYPRUS', 'BOLIVIA', 'PANAMA',\n",
       "       'URUGUAY', 'KOSOVO', 'SENEGAL', 'BOSNIA AND HERZEGOVINA', 'ZAMBIA',\n",
       "       'ALBANIA', 'GRENADA', 'MALI', 'TRINIDAD AND TOBAGO', 'GUYANA',\n",
       "       'DOMINICA', 'BARBADOS', 'MALAWI', 'ST VINCENT', 'ST LUCIA', 'TOGO',\n",
       "       \"COTE d'IVOIRE\", 'SAINT VINCENT AND THE GRENADINES',\n",
       "       'LIECHTENSTEIN', 'ALGERIA', 'BAHAMAS', 'PARAGUAY'], dtype=object)"
      ]
     },
     "execution_count": 10,
     "metadata": {},
     "output_type": "execute_result"
    }
   ],
   "source": []
  },
  {
   "cell_type": "code",
   "execution_count": 27,
   "id": "f5dee118",
   "metadata": {},
   "outputs": [
    {
     "name": "stdout",
     "output_type": "stream",
     "text": [
      "INDIA          6393\n",
      "CHINA           903\n",
      "CANADA          233\n",
      "SOUTH KOREA      93\n",
      "RUSSIA           92\n",
      "               ... \n",
      "KUWAIT            1\n",
      "GEORGIA           1\n",
      "ESTONIA           1\n",
      "MONTENEGRO        1\n",
      "MALI              1\n",
      "Name: COUNTRY_OF_CITIZENSHIP, Length: 103, dtype: int64\n"
     ]
    }
   ],
   "source": []
  },
  {
   "cell_type": "code",
   "execution_count": 28,
   "id": "d6422bf6",
   "metadata": {},
   "outputs": [
    {
     "name": "stdout",
     "output_type": "stream",
     "text": [
      "INDIA          6393\n",
      "CHINA           903\n",
      "CANADA          233\n",
      "SOUTH KOREA      93\n",
      "RUSSIA           92\n",
      "NEPAL            80\n",
      "PAKISTAN         75\n",
      "TAIWAN           70\n",
      "UKRAINE          66\n",
      "MEXICO           65\n",
      "Name: COUNTRY_OF_CITIZENSHIP, dtype: int64\n"
     ]
    }
   ],
   "source": []
  },
  {
   "cell_type": "code",
   "execution_count": 29,
   "id": "22fcf767",
   "metadata": {},
   "outputs": [
    {
     "name": "stdout",
     "output_type": "stream",
     "text": [
      "UNITED ARAB EMIRATES    1\n",
      "LIBYA                   1\n",
      "HAITI                   1\n",
      "TAJIKISTAN              1\n",
      "BELIZE                  1\n",
      "KUWAIT                  1\n",
      "GEORGIA                 1\n",
      "ESTONIA                 1\n",
      "MONTENEGRO              1\n",
      "MALI                    1\n",
      "Name: COUNTRY_OF_CITIZENSHIP, dtype: int64\n"
     ]
    }
   ],
   "source": [
    "\n"
   ]
  },
  {
   "cell_type": "code",
   "execution_count": 30,
   "id": "5453dfa3",
   "metadata": {},
   "outputs": [
    {
     "name": "stdout",
     "output_type": "stream",
     "text": [
      "Number of applications from Brazil:  46\n"
     ]
    }
   ],
   "source": [
    "\n"
   ]
  },
  {
   "cell_type": "code",
   "execution_count": null,
   "id": "1308f1b6",
   "metadata": {},
   "outputs": [],
   "source": []
  },
  {
   "cell_type": "code",
   "execution_count": 34,
   "id": "32350fd3",
   "metadata": {
    "scrolled": true
   },
   "outputs": [
    {
     "name": "stdout",
     "output_type": "stream",
     "text": [
      "INDIA\n",
      "software engineer        5630\n",
      "business analyst          667\n",
      "data analyst               70\n",
      "data scientist             19\n",
      "management consultant       7\n",
      "Name: JOB_TITLE_SUBGROUP, dtype: int64\n",
      "CHINA\n",
      "software engineer        837\n",
      "business analyst          28\n",
      "data analyst              25\n",
      "data scientist            12\n",
      "management consultant      1\n",
      "Name: JOB_TITLE_SUBGROUP, dtype: int64\n",
      "CANADA\n",
      "software engineer        220\n",
      "business analyst           7\n",
      "management consultant      3\n",
      "data analyst               2\n",
      "data scientist             1\n",
      "Name: JOB_TITLE_SUBGROUP, dtype: int64\n",
      "SOUTH KOREA\n",
      "software engineer        83\n",
      "business analyst          9\n",
      "management consultant     1\n",
      "Name: JOB_TITLE_SUBGROUP, dtype: int64\n",
      "RUSSIA\n",
      "software engineer    87\n",
      "business analyst      4\n",
      "data analyst          1\n",
      "Name: JOB_TITLE_SUBGROUP, dtype: int64\n",
      "NEPAL\n",
      "software engineer    55\n",
      "business analyst     23\n",
      "data analyst          2\n",
      "Name: JOB_TITLE_SUBGROUP, dtype: int64\n",
      "PAKISTAN\n",
      "software engineer        58\n",
      "business analyst         14\n",
      "data analyst              2\n",
      "management consultant     1\n",
      "Name: JOB_TITLE_SUBGROUP, dtype: int64\n",
      "TAIWAN\n",
      "software engineer    66\n",
      "data analyst          2\n",
      "data scientist        1\n",
      "business analyst      1\n",
      "Name: JOB_TITLE_SUBGROUP, dtype: int64\n",
      "UKRAINE\n",
      "software engineer    66\n",
      "Name: JOB_TITLE_SUBGROUP, dtype: int64\n",
      "MEXICO\n",
      "software engineer        53\n",
      "business analyst          7\n",
      "data analyst              4\n",
      "management consultant     1\n",
      "Name: JOB_TITLE_SUBGROUP, dtype: int64\n"
     ]
    }
   ],
   "source": []
  },
  {
   "cell_type": "code",
   "execution_count": 47,
   "id": "3c39e1d3",
   "metadata": {},
   "outputs": [
    {
     "data": {
      "image/png": "[encoded data removed]",
      "text/plain": [
       "<Figure size 720x576 with 1 Axes>"
      ]
     },
     "metadata": {
      "needs_background": "light"
     },
     "output_type": "display_data"
    }
   ],
   "source": [
    "\n"
   ]
  },
  {
   "cell_type": "code",
   "execution_count": null,
   "id": "b65c892b",
   "metadata": {},
   "outputs": [],
   "source": []
  },
  {
   "cell_type": "code",
   "execution_count": null,
   "id": "9fb73c2e",
   "metadata": {},
   "outputs": [],
   "source": []
  },
  {
   "cell_type": "code",
   "execution_count": null,
   "id": "51208a8e",
   "metadata": {},
   "outputs": [],
   "source": [
    "\n"
   ]
  }
 ],
 "metadata": {
  "kernelspec": {
   "display_name": "Python 3 (ipykernel)",
   "language": "python",
   "name": "python3"
  },
  "language_info": {
   "codemirror_mode": {
    "name": "ipython",
    "version": 3
   },
   "file_extension": ".py",
   "mimetype": "text/x-python",
   "name": "python",
   "nbconvert_exporter": "python",
   "pygments_lexer": "ipython3",
   "version": "3.9.7"
  }
 },
 "nbformat": 4,
 "nbformat_minor": 5
}
