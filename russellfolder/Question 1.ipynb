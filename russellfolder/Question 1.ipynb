{
 "cells": [
  {
   "cell_type": "code",
   "execution_count": null,
   "id": "bd86104d",
   "metadata": {},
   "outputs": [],
   "source": [
    "I. Do specific sub-types of data-related jobs have higher or lower salaries than others?\n",
    "- Which companies have the highest salaries for those sub-types?\n",
    "- Changes with location of the job?\n",
    "- Will the answer change if I take standard of living into account?\n"
   ]
  },
  {
   "cell_type": "code",
   "execution_count": 2,
   "id": "337cc32a",
   "metadata": {},
   "outputs": [],
   "source": [
    "import sqlite3\n",
    "import pandas as pd"
   ]
  },
  {
   "cell_type": "code",
   "execution_count": 3,
   "id": "7c664d26",
   "metadata": {},
   "outputs": [],
   "source": [
    "dataset = pd.read_excel(\"data/salary_data_states.xlsx\")\n",
    "\n",
    "#remove unimportant job sub types\n",
    "remove = ['attorney','teacher','assistant professor']\n",
    "\n",
    "dataset = dataset[~dataset['JOB_TITLE_SUBGROUP'].isin(remove)]\n",
    "\n",
    "#we dont care for guam, palau, northern mariana islands,Puerto Rico, virgin islands\n",
    "remove_states = ['Guam', 'Palau', 'Northern Mariana Islands', 'Puerto Rico', 'Virgin Islands']\n",
    "\n",
    "# Remove observations with specified work states\n",
    "dataset = dataset[~dataset['WORK_STATE'].isin(remove_states)]"
   ]
  },
  {
   "cell_type": "code",
   "execution_count": 5,
   "id": "dff5da47",
   "metadata": {},
   "outputs": [
    {
     "name": "stdout",
     "output_type": "stream",
     "text": [
      "JOB_TITLE_SUBGROUP\n",
      "data scientist           110000.0\n",
      "management consultant    100000.0\n",
      "software engineer         88275.2\n",
      "business analyst          65000.0\n",
      "data analyst              65000.0\n",
      "Name: PAID_WAGE_PER_YEAR, dtype: float64\n"
     ]
    }
   ],
   "source": [
    "#Do specific sub-types of data-related jobs have higher or lower salaries than others?\n",
    "# Group data by job type and calculate median salary for each group\n",
    "mean_salary_by_job_type = dataset.groupby('JOB_TITLE_SUBGROUP')['PAID_WAGE_PER_YEAR'].median()\n",
    "\n",
    "\n",
    "sorted_job_types = mean_salary_by_job_type.sort_values(ascending=False)\n",
    "\n",
    "print(sorted_job_types)"
   ]
  },
  {
   "cell_type": "code",
   "execution_count": null,
   "id": "d48d8eb2",
   "metadata": {},
   "outputs": [],
   "source": [
    "a. Which companies have the highest salaries for those sub-types?"
   ]
  },
  {
   "cell_type": "code",
   "execution_count": 12,
   "id": "191136d9",
   "metadata": {},
   "outputs": [
    {
     "name": "stdout",
     "output_type": "stream",
     "text": [
      "EMPLOYER_NAME\n",
      "NETFLIX                                   220000.0\n",
      "THE PNC FINANCIAL SERVICES GROUP, INC.    205000.0\n",
      "ADOBE SYSTEMS INCORPORATED                181667.0\n",
      "THE MATLEN SILVER GROUP, INC.             176800.0\n",
      "BED BATH AND BEYOND, INC.                 175000.0\n",
      "AVISO, INC.                               165000.0\n",
      "GUAVUS, INC.                              165000.0\n",
      "INTENT MEDIA INC.                         163000.0\n",
      "DATAMINR, INC.                            162500.0\n",
      "GREEN DOT CORPORATION                     160000.1\n",
      "Name: PAID_WAGE_PER_YEAR, dtype: float64\n"
     ]
    }
   ],
   "source": [
    "# Company average salary for data scientist in each company\n",
    "# Filter the data to include only data scientist job sub-type\n",
    "df_ds = dataset[dataset['JOB_TITLE_SUBGROUP'] == 'data scientist']\n",
    "\n",
    "# Group the data by company and calculate the average salary\n",
    "ds_by_company = df_ds.groupby('EMPLOYER_NAME')['PAID_WAGE_PER_YEAR'].mean()\n",
    "\n",
    "# Sort the data in descending order of average salary\n",
    "ds_by_company = ds_by_company.sort_values(ascending=False)\n",
    "\n",
    "print(ds_by_company.head(10))"
   ]
  },
  {
   "cell_type": "code",
   "execution_count": 14,
   "id": "92149cf7",
   "metadata": {},
   "outputs": [
    {
     "name": "stdout",
     "output_type": "stream",
     "text": [
      "EMPLOYER_NAME\n",
      "CO-CREATION PARTNERS, INC.          582400.0\n",
      "BAKER BOTTS L.L.P.                  350000.0\n",
      "NETFLIX, INC.                       325000.0\n",
      "DORAN JONES INC.                    250000.0\n",
      "M MANAGEMENT INC.                   208000.0\n",
      "EXPRESSWORKS INTERNATIONAL LLC      208000.0\n",
      "PLASTER & WALD CONSULTING CORP      202800.0\n",
      "PARTNERS IN PERFORMANCE USA INC.    197000.0\n",
      "DACAR MANAGEMENT, LLC               176312.0\n",
      "ARCHILIER INC.                      168334.0\n",
      "Name: PAID_WAGE_PER_YEAR, dtype: float64\n"
     ]
    }
   ],
   "source": [
    "# Company average salary for management consultant in each company\n",
    "# Filter the data to include only job sub-type\n",
    "df_mc = dataset[dataset['JOB_TITLE_SUBGROUP'] == 'management consultant']\n",
    "\n",
    "# Group the data by company and calculate the average salary\n",
    "mc_by_company = df_mc.groupby('EMPLOYER_NAME')['PAID_WAGE_PER_YEAR'].mean()\n",
    "\n",
    "# Sort the data in descending order of average salary\n",
    "mc_by_company = mc_by_company.sort_values(ascending=False)\n",
    "\n",
    "print(mc_by_company.head(10))"
   ]
  },
  {
   "cell_type": "code",
   "execution_count": 15,
   "id": "c3300dc3",
   "metadata": {},
   "outputs": [
    {
     "name": "stdout",
     "output_type": "stream",
     "text": [
      "EMPLOYER_NAME\n",
      "SIGMATEK SYSTEMS, LLC           600000.000000\n",
      "ALIASWIRE, INC.                 528000.000000\n",
      "LOAD DYNAMIX, INC.              486650.000000\n",
      "INSIDE, INC.                    474895.666667\n",
      "KEY                             412500.000000\n",
      "LANDIS GYR TECHNOLOGY, INC      401912.000000\n",
      "CWMA NEVADA LLC                 385000.000000\n",
      "SLV IT SOLUTIONS INC.           385000.000000\n",
      "MAGNUM ENERGY SOLUTIONS, LLC    343200.000000\n",
      "XELLERATION, LLC                314454.300000\n",
      "Name: PAID_WAGE_PER_YEAR, dtype: float64\n"
     ]
    }
   ],
   "source": [
    "# Company average salary for software engineer in each company\n",
    "# Filter the data to include only job sub-type\n",
    "df_se = dataset[dataset['JOB_TITLE_SUBGROUP'] == 'software engineer']\n",
    "\n",
    "# Group the data by company and calculate the average salary\n",
    "se_by_company = df_se.groupby('EMPLOYER_NAME')['PAID_WAGE_PER_YEAR'].mean()\n",
    "\n",
    "# Sort the data in descending order of average salary\n",
    "se_by_company = se_by_company.sort_values(ascending=False)\n",
    "\n",
    "print(se_by_company.head(10))"
   ]
  },
  {
   "cell_type": "code",
   "execution_count": 16,
   "id": "8bafd859",
   "metadata": {},
   "outputs": [
    {
     "name": "stdout",
     "output_type": "stream",
     "text": [
      "EMPLOYER_NAME\n",
      "THE UNIVERSITY OF TEXAS SYSTEM ADMINISTRATION        677508.00\n",
      "OFFICEMAX INCORPORATED                               603711.73\n",
      "ASCENDUM SOLUTIONS, LLC                              264992.00\n",
      "ELIE TAHARI LTD.                                     220000.00\n",
      "HARA-TECH, INC.                                      184683.00\n",
      "PRECISION GLOBAL CONSULTING INC                      179000.00\n",
      "LOGIN CONSULTING SERVICES INC                        176800.00\n",
      "STEVEN DOUGLAS ASSOCIATES, INC.                      175000.00\n",
      "SOROS FUND MANAGEMENT, LLC                           175000.00\n",
      "B & R WHOLESALE FLOWER DBA RIVER OAKS PLANT HOUSE    172203.00\n",
      "Name: PAID_WAGE_PER_YEAR, dtype: float64\n"
     ]
    }
   ],
   "source": [
    "# Company average salary for business analyst in each company\n",
    "# Filter the data to include only job sub-type\n",
    "df_ba = dataset[dataset['JOB_TITLE_SUBGROUP'] == 'business analyst']\n",
    "\n",
    "# Group the data by company and calculate the average salary\n",
    "ba_by_company = df_ba.groupby('EMPLOYER_NAME')['PAID_WAGE_PER_YEAR'].mean()\n",
    "\n",
    "# Sort the data in descending order of average salary\n",
    "ba_by_company = ba_by_company.sort_values(ascending=False)\n",
    "\n",
    "print(ba_by_company.head(10))"
   ]
  },
  {
   "cell_type": "code",
   "execution_count": 17,
   "id": "8795bed8",
   "metadata": {},
   "outputs": [
    {
     "name": "stdout",
     "output_type": "stream",
     "text": [
      "EMPLOYER_NAME\n",
      "INTUIT                             433161.50\n",
      "KNOWLEDGENT GROUP INC.             185000.00\n",
      "NETFLIX, INC.                      177355.25\n",
      "AVISO, INC.                        165000.00\n",
      "FIRST REPUBLIC BANK                160000.00\n",
      "OPEN SYSTEMS TECHNOLOGIES, INC.    150000.00\n",
      "TELADOC INC                        150000.00\n",
      "QUIXEY                             150000.00\n",
      "KNIGHT CAPITAL AMERICAS, L.P.      150000.00\n",
      "QUIXEY, INC.                       150000.00\n",
      "Name: PAID_WAGE_PER_YEAR, dtype: float64\n"
     ]
    }
   ],
   "source": [
    "# Company average salary for data analyst in each company\n",
    "# Filter the data to include only job sub-type\n",
    "df_da = dataset[dataset['JOB_TITLE_SUBGROUP'] == 'data analyst']\n",
    "\n",
    "# Group the data by company and calculate the average salary\n",
    "da_by_company = df_da.groupby('EMPLOYER_NAME')['PAID_WAGE_PER_YEAR'].mean()\n",
    "\n",
    "# Sort the data in descending order of average salary\n",
    "da_by_company = da_by_company.sort_values(ascending=False)\n",
    "\n",
    "print(da_by_company.head(10))"
   ]
  },
  {
   "cell_type": "code",
   "execution_count": 19,
   "id": "52874802",
   "metadata": {},
   "outputs": [
    {
     "name": "stdout",
     "output_type": "stream",
     "text": [
      "                                                       EMPLOYER_NAME  \\\n",
      "JOB_TITLE_SUBGROUP                                                     \n",
      "business analyst       THE UNIVERSITY OF TEXAS SYSTEM ADMINISTRATION   \n",
      "data analyst                                                  INTUIT   \n",
      "data scientist                                         NETFLIX, INC.   \n",
      "management consultant                     CO-CREATION PARTNERS, INC.   \n",
      "software engineer                                 KPI PARTNERS, INC.   \n",
      "\n",
      "                       PAID_WAGE_PER_YEAR  \n",
      "JOB_TITLE_SUBGROUP                         \n",
      "business analyst                1250784.0  \n",
      "data analyst                     746323.0  \n",
      "data scientist                   230000.0  \n",
      "management consultant            582400.0  \n",
      "software engineer               1400000.0  \n"
     ]
    }
   ],
   "source": [
    "#Which companies have the maximum salaries for those sub types\n",
    "# Group data by job type and find the company that pays the highest salary for each group\n",
    "highest_salary_by_job_type = dataset.groupby('JOB_TITLE_SUBGROUP').apply(lambda x: x.loc[x['PAID_WAGE_PER_YEAR'].idxmax()])\n",
    "\n",
    "print(highest_salary_by_job_type[['EMPLOYER_NAME', 'PAID_WAGE_PER_YEAR']])"
   ]
  },
  {
   "cell_type": "code",
   "execution_count": 18,
   "id": "3bf83ba6",
   "metadata": {},
   "outputs": [
    {
     "name": "stdout",
     "output_type": "stream",
     "text": [
      "Object `job` not found.\n"
     ]
    }
   ],
   "source": [
    "b. Changes with location of the job?"
   ]
  },
  {
   "cell_type": "code",
   "execution_count": 21,
   "id": "1e502bdf",
   "metadata": {},
   "outputs": [
    {
     "data": {
      "text/plain": [
       "WORK_STATE    JOB_TITLE_SUBGROUP   \n",
       "Oklahoma      management consultant    141847.5\n",
       "Connecticut   management consultant    124785.6\n",
       "New York      management consultant    119995.2\n",
       "Pennsylvania  management consultant    119995.2\n",
       "Georgia       management consultant    119995.2\n",
       "                                         ...   \n",
       "Nebraska      data analyst              50979.0\n",
       "Kansas        management consultant     50000.0\n",
       "North Dakota  data analyst              46779.0\n",
       "Idaho         data analyst              46399.5\n",
       "Vermont       data analyst              42000.0\n",
       "Name: PAID_WAGE_PER_YEAR, Length: 218, dtype: float64"
      ]
     },
     "execution_count": 21,
     "metadata": {},
     "output_type": "execute_result"
    }
   ],
   "source": [
    "#salary by state and jobsubgroup\n",
    "salary_by_subtype_by_state = dataset.groupby(['WORK_STATE', 'JOB_TITLE_SUBGROUP'])['PAID_WAGE_PER_YEAR'].median()\n",
    "salary_by_subtype_by_state.sort_values(ascending = False)"
   ]
  },
  {
   "cell_type": "code",
   "execution_count": 26,
   "id": "96f47bb5",
   "metadata": {},
   "outputs": [
    {
     "data": {
      "text/plain": [
       "WORK_STATE\n",
       "New Jersey               62816.0\n",
       "Colorado                 67018.0\n",
       "North Carolina           67444.0\n",
       "Florida                  70000.0\n",
       "Virginia                 70096.0\n",
       "Tennessee                72800.0\n",
       "Maryland                 74290.0\n",
       "Hawaii                   75000.0\n",
       "Rhode Island             75171.0\n",
       "Arkansas                 77500.0\n",
       "Missouri                 80000.0\n",
       "Illinois                 80000.0\n",
       "Ohio                     80000.0\n",
       "Nevada                   81245.0\n",
       "Pennsylvania             85000.0\n",
       "Georgia                  85000.0\n",
       "Michigan                 85000.0\n",
       "Wisconsin                85000.0\n",
       "Texas                    90000.0\n",
       "Iowa                     90870.0\n",
       "Indiana                  93500.0\n",
       "Connecticut              96866.0\n",
       "Utah                     98500.0\n",
       "Massachusetts           102500.0\n",
       "Oregon                  104826.5\n",
       "New York                105000.0\n",
       "Minnesota               111457.0\n",
       "District of Columbia    114500.0\n",
       "Washington              115000.0\n",
       "Arizona                 115000.0\n",
       "California              119800.0\n",
       "Name: PAID_WAGE_PER_YEAR, dtype: float64"
      ]
     },
     "execution_count": 26,
     "metadata": {},
     "output_type": "execute_result"
    }
   ],
   "source": [
    "#Find maximum median paying state by job title subgroup\n",
    "data_analyst_df = dataset[dataset['JOB_TITLE_SUBGROUP'] == 'data scientist']\n",
    "\n",
    "# Group the filtered data by state and calculate the median paid wage per year\n",
    "median_wage_by_state = data_analyst_df.groupby('WORK_STATE')['PAID_WAGE_PER_YEAR'].median()\n",
    "\n",
    "# Get the state with the highest median paid wage per year\n",
    "highest_paid_state = median_wage_by_state.idxmax()\n",
    "\n",
    "median_wage_by_state.sort_values()"
   ]
  },
  {
   "cell_type": "code",
   "execution_count": null,
   "id": "1cb27bd4",
   "metadata": {},
   "outputs": [],
   "source": [
    "c.  Will the answer change if I take standard of living into account?"
   ]
  },
  {
   "cell_type": "code",
   "execution_count": 30,
   "id": "31b909b4",
   "metadata": {
    "scrolled": true
   },
   "outputs": [
    {
     "data": {
      "text/html": [
       "<div>\n",
       "<style scoped>\n",
       "    .dataframe tbody tr th:only-of-type {\n",
       "        vertical-align: middle;\n",
       "    }\n",
       "\n",
       "    .dataframe tbody tr th {\n",
       "        vertical-align: top;\n",
       "    }\n",
       "\n",
       "    .dataframe thead th {\n",
       "        text-align: right;\n",
       "    }\n",
       "</style>\n",
       "<table border=\"1\" class=\"dataframe\">\n",
       "  <thead>\n",
       "    <tr style=\"text-align: right;\">\n",
       "      <th></th>\n",
       "      <th>JOB_TITLE</th>\n",
       "      <th>JOB_TITLE_SUBGROUP</th>\n",
       "      <th>WORK_STATE</th>\n",
       "      <th>costIndex</th>\n",
       "      <th>PAID_WAGE_PER_YEAR</th>\n",
       "      <th>ADJUSTED_WAGE</th>\n",
       "    </tr>\n",
       "  </thead>\n",
       "  <tbody>\n",
       "    <tr>\n",
       "      <th>68591</th>\n",
       "      <td>BUSINESS ANALYST</td>\n",
       "      <td>business analyst</td>\n",
       "      <td>New York</td>\n",
       "      <td>148.2</td>\n",
       "      <td>20800.0</td>\n",
       "      <td>1.403509e+04</td>\n",
       "    </tr>\n",
       "    <tr>\n",
       "      <th>127848</th>\n",
       "      <td>INTERNATIONAL BUSINESS ANALYST</td>\n",
       "      <td>business analyst</td>\n",
       "      <td>Hawaii</td>\n",
       "      <td>193.3</td>\n",
       "      <td>39600.0</td>\n",
       "      <td>2.048629e+04</td>\n",
       "    </tr>\n",
       "    <tr>\n",
       "      <th>127847</th>\n",
       "      <td>INTERNATIONAL BUSINESS ANALYST</td>\n",
       "      <td>business analyst</td>\n",
       "      <td>Hawaii</td>\n",
       "      <td>193.3</td>\n",
       "      <td>39600.0</td>\n",
       "      <td>2.048629e+04</td>\n",
       "    </tr>\n",
       "    <tr>\n",
       "      <th>128038</th>\n",
       "      <td>BUSINESS ANALYST</td>\n",
       "      <td>business analyst</td>\n",
       "      <td>Louisiana</td>\n",
       "      <td>93.0</td>\n",
       "      <td>20000.0</td>\n",
       "      <td>2.150538e+04</td>\n",
       "    </tr>\n",
       "    <tr>\n",
       "      <th>127846</th>\n",
       "      <td>INTERNATIONAL BUSINESS ANALYST</td>\n",
       "      <td>business analyst</td>\n",
       "      <td>Hawaii</td>\n",
       "      <td>193.3</td>\n",
       "      <td>42700.0</td>\n",
       "      <td>2.209002e+04</td>\n",
       "    </tr>\n",
       "    <tr>\n",
       "      <th>...</th>\n",
       "      <td>...</td>\n",
       "      <td>...</td>\n",
       "      <td>...</td>\n",
       "      <td>...</td>\n",
       "      <td>...</td>\n",
       "      <td>...</td>\n",
       "    </tr>\n",
       "    <tr>\n",
       "      <th>113039</th>\n",
       "      <td>SOFTWARE ENGINEER</td>\n",
       "      <td>software engineer</td>\n",
       "      <td>Georgia</td>\n",
       "      <td>88.8</td>\n",
       "      <td>1080000.0</td>\n",
       "      <td>1.216216e+06</td>\n",
       "    </tr>\n",
       "    <tr>\n",
       "      <th>82275</th>\n",
       "      <td>NETWORK SOFTWARE ENGINEER IV</td>\n",
       "      <td>software engineer</td>\n",
       "      <td>Texas</td>\n",
       "      <td>92.1</td>\n",
       "      <td>1224800.6</td>\n",
       "      <td>1.329860e+06</td>\n",
       "    </tr>\n",
       "    <tr>\n",
       "      <th>83767</th>\n",
       "      <td>BUSINESS ANALYST II</td>\n",
       "      <td>business analyst</td>\n",
       "      <td>Texas</td>\n",
       "      <td>92.1</td>\n",
       "      <td>1250784.0</td>\n",
       "      <td>1.358072e+06</td>\n",
       "    </tr>\n",
       "    <tr>\n",
       "      <th>83766</th>\n",
       "      <td>BUSINESS ANALYST II</td>\n",
       "      <td>business analyst</td>\n",
       "      <td>Texas</td>\n",
       "      <td>92.1</td>\n",
       "      <td>1250784.0</td>\n",
       "      <td>1.358072e+06</td>\n",
       "    </tr>\n",
       "    <tr>\n",
       "      <th>116583</th>\n",
       "      <td>SENIOR SOFTWARE ENGINEER</td>\n",
       "      <td>software engineer</td>\n",
       "      <td>Alabama</td>\n",
       "      <td>87.9</td>\n",
       "      <td>1400000.0</td>\n",
       "      <td>1.592719e+06</td>\n",
       "    </tr>\n",
       "  </tbody>\n",
       "</table>\n",
       "<p>132186 rows × 6 columns</p>\n",
       "</div>"
      ],
      "text/plain": [
       "                             JOB_TITLE JOB_TITLE_SUBGROUP WORK_STATE  \\\n",
       "68591                 BUSINESS ANALYST   business analyst   New York   \n",
       "127848  INTERNATIONAL BUSINESS ANALYST   business analyst     Hawaii   \n",
       "127847  INTERNATIONAL BUSINESS ANALYST   business analyst     Hawaii   \n",
       "128038                BUSINESS ANALYST   business analyst  Louisiana   \n",
       "127846  INTERNATIONAL BUSINESS ANALYST   business analyst     Hawaii   \n",
       "...                                ...                ...        ...   \n",
       "113039               SOFTWARE ENGINEER  software engineer    Georgia   \n",
       "82275     NETWORK SOFTWARE ENGINEER IV  software engineer      Texas   \n",
       "83767              BUSINESS ANALYST II   business analyst      Texas   \n",
       "83766              BUSINESS ANALYST II   business analyst      Texas   \n",
       "116583        SENIOR SOFTWARE ENGINEER  software engineer    Alabama   \n",
       "\n",
       "        costIndex  PAID_WAGE_PER_YEAR  ADJUSTED_WAGE  \n",
       "68591       148.2             20800.0   1.403509e+04  \n",
       "127848      193.3             39600.0   2.048629e+04  \n",
       "127847      193.3             39600.0   2.048629e+04  \n",
       "128038       93.0             20000.0   2.150538e+04  \n",
       "127846      193.3             42700.0   2.209002e+04  \n",
       "...           ...                 ...            ...  \n",
       "113039       88.8           1080000.0   1.216216e+06  \n",
       "82275        92.1           1224800.6   1.329860e+06  \n",
       "83767        92.1           1250784.0   1.358072e+06  \n",
       "83766        92.1           1250784.0   1.358072e+06  \n",
       "116583       87.9           1400000.0   1.592719e+06  \n",
       "\n",
       "[132186 rows x 6 columns]"
      ]
     },
     "execution_count": 30,
     "metadata": {},
     "output_type": "execute_result"
    }
   ],
   "source": [
    "col_df = pd.read_csv('data/CostOfLiving2023.csv')\n",
    "cost_of_living = col_df[['state','costIndex']]\n",
    "merged_data = pd.merge(dataset, cost_of_living, left_on='WORK_STATE', right_on='state')\n",
    "merged_data['ADJUSTED_WAGE'] = (merged_data['PAID_WAGE_PER_YEAR'] / merged_data['costIndex'])*100\n",
    "\n",
    "df1 = merged_data[['JOB_TITLE','JOB_TITLE_SUBGROUP','WORK_STATE','costIndex','PAID_WAGE_PER_YEAR','ADJUSTED_WAGE']]\n",
    "df1.sort_values(by = 'ADJUSTED_WAGE')"
   ]
  },
  {
   "cell_type": "code",
   "execution_count": null,
   "id": "809edcff",
   "metadata": {},
   "outputs": [],
   "source": []
  }
 ],
 "metadata": {
  "kernelspec": {
   "display_name": "Python 3 (ipykernel)",
   "language": "python",
   "name": "python3"
  },
  "language_info": {
   "codemirror_mode": {
    "name": "ipython",
    "version": 3
   },
   "file_extension": ".py",
   "mimetype": "text/x-python",
   "name": "python",
   "nbconvert_exporter": "python",
   "pygments_lexer": "ipython3",
   "version": "3.9.13"
  }
 },
 "nbformat": 4,
 "nbformat_minor": 5
}
