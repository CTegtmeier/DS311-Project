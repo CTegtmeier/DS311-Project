{
 "cells": [
  {
   "cell_type": "markdown",
   "id": "d1e95082",
   "metadata": {},
   "source": [
    "# Question 4:\n",
    ">\tWhich states have the biggest job market?\n",
    "\n",
    ">\tWhich cities have the biggest job market? \n",
    "\n",
    ">\tHave these changed over time(2008-2015)? \n",
    "\n",
    ">\tNow contrast with pay. Which city or state has the biggest job market and greatest overall salary? (i.e. what's the best place to find well-paying work?)"
   ]
  },
  {
   "cell_type": "code",
   "execution_count": null,
   "id": "4c49f6d9",
   "metadata": {},
   "outputs": [],
   "source": [
    "import pandas as pd\n",
    "import numpy as np\n",
    "import matplotlib.pyplot as plt\n",
    "import seaborn as sns"
   ]
  },
  {
   "cell_type": "code",
   "execution_count": null,
   "id": "f6e1db38",
   "metadata": {},
   "outputs": [],
   "source": [
    "salary_df = pd.read_excel('salary_data_states.xlsx')"
   ]
  }
 ],
 "metadata": {
  "kernelspec": {
   "display_name": "Python 3",
   "language": "python",
   "name": "python3"
  },
  "language_info": {
   "codemirror_mode": {
    "name": "ipython",
    "version": 3
   },
   "file_extension": ".py",
   "mimetype": "text/x-python",
   "name": "python",
   "nbconvert_exporter": "python",
   "pygments_lexer": "ipython3",
   "version": "3.8.8"
  }
 },
 "nbformat": 4,
 "nbformat_minor": 5
}
