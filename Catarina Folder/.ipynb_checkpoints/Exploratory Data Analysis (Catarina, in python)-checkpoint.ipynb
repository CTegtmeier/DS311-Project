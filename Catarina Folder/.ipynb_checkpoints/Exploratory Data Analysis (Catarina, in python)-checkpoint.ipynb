{
 "cells": [
  {
   "cell_type": "markdown",
   "id": "e6d2fba2",
   "metadata": {},
   "source": [
    "# Data exploration"
   ]
  },
  {
   "cell_type": "code",
   "execution_count": 1,
   "id": "bcd6a991",
   "metadata": {},
   "outputs": [],
   "source": [
    "import pandas as pd\n",
    "import numpy as np\n",
    "import matplotlib.pyplot as plt\n",
    "import seaborn as sns"
   ]
  },
  {
   "cell_type": "code",
   "execution_count": 2,
   "id": "b2613d6f",
   "metadata": {},
   "outputs": [],
   "source": [
    "salary_df = pd.read_excel('salary_data_states.xlsx')"
   ]
  },
  {
   "cell_type": "markdown",
   "id": "d30820e3",
   "metadata": {},
   "source": [
    "read_excel() as this is an xlsx file, not csv."
   ]
  },
  {
   "cell_type": "code",
   "execution_count": 3,
   "id": "9701e214",
   "metadata": {},
   "outputs": [
    {
     "data": {
      "text/plain": [
       "pandas.core.frame.DataFrame"
      ]
     },
     "execution_count": 3,
     "metadata": {},
     "output_type": "execute_result"
    }
   ],
   "source": [
    "type(salary_df)"
   ]
  },
  {
   "cell_type": "code",
   "execution_count": 4,
   "id": "3c05ef59",
   "metadata": {},
   "outputs": [
    {
     "data": {
      "text/plain": [
       "(167278, 27)"
      ]
     },
     "execution_count": 4,
     "metadata": {},
     "output_type": "execute_result"
    }
   ],
   "source": [
    "salary_df.shape"
   ]
  },
  {
   "cell_type": "markdown",
   "id": "a214025e",
   "metadata": {},
   "source": [
    "This tells us there are 167278 rows (specific jobs), and 27 columns (which are various bits of information associated with each job)."
   ]
  },
  {
   "cell_type": "code",
   "execution_count": 5,
   "id": "85924fb4",
   "metadata": {},
   "outputs": [
    {
     "name": "stdout",
     "output_type": "stream",
     "text": [
      "<class 'pandas.core.frame.DataFrame'>\n",
      "RangeIndex: 167278 entries, 0 to 167277\n",
      "Data columns (total 27 columns):\n",
      " #   Column                          Non-Null Count   Dtype  \n",
      "---  ------                          --------------   -----  \n",
      " 0   CASE_NUMBER                     167278 non-null  object \n",
      " 1   CASE_STATUS                     167278 non-null  object \n",
      " 2   CASE_RECEIVED_DATE              167278 non-null  object \n",
      " 3   DECISION_DATE                   167278 non-null  object \n",
      " 4   EMPLOYER_NAME                   167278 non-null  object \n",
      " 5   PREVAILING_WAGE_SUBMITTED       167278 non-null  float64\n",
      " 6   PREVAILING_WAGE_SUBMITTED_UNIT  167278 non-null  object \n",
      " 7   PAID_WAGE_SUBMITTED             167278 non-null  float64\n",
      " 8   PAID_WAGE_SUBMITTED_UNIT        167278 non-null  object \n",
      " 9   JOB_TITLE                       167278 non-null  object \n",
      " 10  WORK_CITY                       167275 non-null  object \n",
      " 11  EDUCATION_LEVEL_REQUIRED        11093 non-null   object \n",
      " 12  COLLEGE_MAJOR_REQUIRED          11051 non-null   object \n",
      " 13  EXPERIENCE_REQUIRED_Y_N         11093 non-null   object \n",
      " 14  EXPERIENCE_REQUIRED_NUM_MONTHS  4965 non-null    float64\n",
      " 15  COUNTRY_OF_CITIZENSHIP          11093 non-null   object \n",
      " 16  PREVAILING_WAGE_SOC_CODE        167278 non-null  object \n",
      " 17  PREVAILING_WAGE_SOC_TITLE       167278 non-null  object \n",
      " 18  WORK_STATE                      167278 non-null  object \n",
      " 19  WORK_STATE_ABBREVIATION         167278 non-null  object \n",
      " 20  WORK_POSTAL_CODE                53674 non-null   object \n",
      " 21  FULL_TIME_POSITION_Y_N          156185 non-null  object \n",
      " 22  VISA_CLASS                      167278 non-null  object \n",
      " 23  PREVAILING_WAGE_PER_YEAR        167210 non-null  float64\n",
      " 24  PAID_WAGE_PER_YEAR              167278 non-null  float64\n",
      " 25  JOB_TITLE_SUBGROUP              167278 non-null  object \n",
      " 26  order                           167278 non-null  int64  \n",
      "dtypes: float64(5), int64(1), object(21)\n",
      "memory usage: 34.5+ MB\n"
     ]
    }
   ],
   "source": [
    "salary_df.info()"
   ]
  },
  {
   "cell_type": "markdown",
   "id": "7db9aa3e",
   "metadata": {},
   "source": [
    "This gives us more information about the columns in this sheet - useful for getting more specific data later on."
   ]
  },
  {
   "cell_type": "code",
   "execution_count": 6,
   "id": "419273a3",
   "metadata": {},
   "outputs": [
    {
     "data": {
      "text/html": [
       "<div>\n",
       "<style scoped>\n",
       "    .dataframe tbody tr th:only-of-type {\n",
       "        vertical-align: middle;\n",
       "    }\n",
       "\n",
       "    .dataframe tbody tr th {\n",
       "        vertical-align: top;\n",
       "    }\n",
       "\n",
       "    .dataframe thead th {\n",
       "        text-align: right;\n",
       "    }\n",
       "</style>\n",
       "<table border=\"1\" class=\"dataframe\">\n",
       "  <thead>\n",
       "    <tr style=\"text-align: right;\">\n",
       "      <th></th>\n",
       "      <th>PREVAILING_WAGE_SUBMITTED</th>\n",
       "      <th>PAID_WAGE_SUBMITTED</th>\n",
       "      <th>EXPERIENCE_REQUIRED_NUM_MONTHS</th>\n",
       "      <th>PREVAILING_WAGE_PER_YEAR</th>\n",
       "      <th>PAID_WAGE_PER_YEAR</th>\n",
       "      <th>order</th>\n",
       "    </tr>\n",
       "  </thead>\n",
       "  <tbody>\n",
       "    <tr>\n",
       "      <th>count</th>\n",
       "      <td>1.672780e+05</td>\n",
       "      <td>1.672780e+05</td>\n",
       "      <td>4965.000000</td>\n",
       "      <td>167210.000000</td>\n",
       "      <td>1.672780e+05</td>\n",
       "      <td>167278.000000</td>\n",
       "    </tr>\n",
       "    <tr>\n",
       "      <th>mean</th>\n",
       "      <td>7.115752e+04</td>\n",
       "      <td>8.164186e+04</td>\n",
       "      <td>34.692044</td>\n",
       "      <td>74274.868236</td>\n",
       "      <td>8.553277e+04</td>\n",
       "      <td>83714.716305</td>\n",
       "    </tr>\n",
       "    <tr>\n",
       "      <th>std</th>\n",
       "      <td>3.874624e+04</td>\n",
       "      <td>4.147703e+04</td>\n",
       "      <td>22.317783</td>\n",
       "      <td>25356.245893</td>\n",
       "      <td>3.873847e+04</td>\n",
       "      <td>48300.236431</td>\n",
       "    </tr>\n",
       "    <tr>\n",
       "      <th>min</th>\n",
       "      <td>5.050000e+00</td>\n",
       "      <td>5.050000e+00</td>\n",
       "      <td>0.000000</td>\n",
       "      <td>10504.000000</td>\n",
       "      <td>1.050000e+04</td>\n",
       "      <td>1.000000</td>\n",
       "    </tr>\n",
       "    <tr>\n",
       "      <th>25%</th>\n",
       "      <td>5.447500e+04</td>\n",
       "      <td>6.100000e+04</td>\n",
       "      <td>12.000000</td>\n",
       "      <td>56880.000000</td>\n",
       "      <td>6.300000e+04</td>\n",
       "      <td>41901.250000</td>\n",
       "    </tr>\n",
       "    <tr>\n",
       "      <th>50%</th>\n",
       "      <td>6.970100e+04</td>\n",
       "      <td>7.700000e+04</td>\n",
       "      <td>24.000000</td>\n",
       "      <td>70928.000000</td>\n",
       "      <td>7.860000e+04</td>\n",
       "      <td>83722.500000</td>\n",
       "    </tr>\n",
       "    <tr>\n",
       "      <th>75%</th>\n",
       "      <td>8.993700e+04</td>\n",
       "      <td>1.000000e+05</td>\n",
       "      <td>60.000000</td>\n",
       "      <td>90459.000000</td>\n",
       "      <td>1.000060e+05</td>\n",
       "      <td>125541.750000</td>\n",
       "    </tr>\n",
       "    <tr>\n",
       "      <th>max</th>\n",
       "      <td>6.217100e+06</td>\n",
       "      <td>2.500000e+06</td>\n",
       "      <td>144.000000</td>\n",
       "      <td>320000.000000</td>\n",
       "      <td>2.500000e+06</td>\n",
       "      <td>167361.000000</td>\n",
       "    </tr>\n",
       "  </tbody>\n",
       "</table>\n",
       "</div>"
      ],
      "text/plain": [
       "       PREVAILING_WAGE_SUBMITTED  PAID_WAGE_SUBMITTED  \\\n",
       "count               1.672780e+05         1.672780e+05   \n",
       "mean                7.115752e+04         8.164186e+04   \n",
       "std                 3.874624e+04         4.147703e+04   \n",
       "min                 5.050000e+00         5.050000e+00   \n",
       "25%                 5.447500e+04         6.100000e+04   \n",
       "50%                 6.970100e+04         7.700000e+04   \n",
       "75%                 8.993700e+04         1.000000e+05   \n",
       "max                 6.217100e+06         2.500000e+06   \n",
       "\n",
       "       EXPERIENCE_REQUIRED_NUM_MONTHS  PREVAILING_WAGE_PER_YEAR  \\\n",
       "count                     4965.000000             167210.000000   \n",
       "mean                        34.692044              74274.868236   \n",
       "std                         22.317783              25356.245893   \n",
       "min                          0.000000              10504.000000   \n",
       "25%                         12.000000              56880.000000   \n",
       "50%                         24.000000              70928.000000   \n",
       "75%                         60.000000              90459.000000   \n",
       "max                        144.000000             320000.000000   \n",
       "\n",
       "       PAID_WAGE_PER_YEAR          order  \n",
       "count        1.672780e+05  167278.000000  \n",
       "mean         8.553277e+04   83714.716305  \n",
       "std          3.873847e+04   48300.236431  \n",
       "min          1.050000e+04       1.000000  \n",
       "25%          6.300000e+04   41901.250000  \n",
       "50%          7.860000e+04   83722.500000  \n",
       "75%          1.000060e+05  125541.750000  \n",
       "max          2.500000e+06  167361.000000  "
      ]
     },
     "execution_count": 6,
     "metadata": {},
     "output_type": "execute_result"
    }
   ],
   "source": [
    "salary_df.describe()"
   ]
  },
  {
   "cell_type": "markdown",
   "id": "55ccebc8",
   "metadata": {},
   "source": [
    "This is useful to get a general idea of the values within each column. I will use this to get any idea what data to exclude later on."
   ]
  },
  {
   "cell_type": "code",
   "execution_count": 7,
   "id": "959382ea",
   "metadata": {},
   "outputs": [
    {
     "data": {
      "text/plain": [
       "software engineer        99364\n",
       "business analyst         27811\n",
       "assistant professor      18866\n",
       "teacher                  13912\n",
       "data analyst              3840\n",
       "attorney                  1488\n",
       "data scientist            1227\n",
       "management consultant      770\n",
       "Name: JOB_TITLE_SUBGROUP, dtype: int64"
      ]
     },
     "execution_count": 7,
     "metadata": {},
     "output_type": "execute_result"
    }
   ],
   "source": [
    "salary_df['JOB_TITLE_SUBGROUP'].value_counts()"
   ]
  },
  {
   "cell_type": "markdown",
   "id": "a797d199",
   "metadata": {},
   "source": [
    "This tells me the 'JOB_TITLE_SUBGROUP' has assistant professor, attorney, business analyst, data analyst, data scientist, management consultant, software engineer, teacher as job types. Later, we will exclude teachers and attorneys from the set."
   ]
  },
  {
   "cell_type": "code",
   "execution_count": 8,
   "id": "0c82b9c6",
   "metadata": {},
   "outputs": [
    {
     "data": {
      "text/plain": [
       "SOFTWARE ENGINEER                                     54478\n",
       "BUSINESS ANALYST                                      19516\n",
       "SENIOR SOFTWARE ENGINEER                              11714\n",
       "ASSISTANT PROFESSOR                                   10134\n",
       "Software Engineer                                      3743\n",
       "                                                      ...  \n",
       "ASSISTANT PROFESSOR, NEGOTIATIONS AND CONFLICT MAN        1\n",
       "ASSISTANT PROFESSOR SECURITY STUDIES                      1\n",
       "ASSISTANT PROFESSOR-SOCIAL WORK                           1\n",
       "LONGTERM SUBSTITUTE TEACHER                               1\n",
       "SR SOFTWARE ENGINEER-ANDROID FRAMEWORK                    1\n",
       "Name: JOB_TITLE, Length: 12589, dtype: int64"
      ]
     },
     "execution_count": 8,
     "metadata": {},
     "output_type": "execute_result"
    }
   ],
   "source": [
    "salary_df['JOB_TITLE'].value_counts()"
   ]
  },
  {
   "cell_type": "code",
   "execution_count": null,
   "id": "4dec3316",
   "metadata": {},
   "outputs": [],
   "source": []
  },
  {
   "cell_type": "code",
   "execution_count": null,
   "id": "345bfade",
   "metadata": {},
   "outputs": [],
   "source": []
  }
 ],
 "metadata": {
  "kernelspec": {
   "display_name": "Python 3",
   "language": "python",
   "name": "python3"
  },
  "language_info": {
   "codemirror_mode": {
    "name": "ipython",
    "version": 3
   },
   "file_extension": ".py",
   "mimetype": "text/x-python",
   "name": "python",
   "nbconvert_exporter": "python",
   "pygments_lexer": "ipython3",
   "version": "3.8.8"
  }
 },
 "nbformat": 4,
 "nbformat_minor": 5
}
