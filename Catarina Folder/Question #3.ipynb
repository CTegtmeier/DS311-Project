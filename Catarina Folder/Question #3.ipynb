{
 "cells": [
  {
   "cell_type": "markdown",
   "id": "a0a662e4",
   "metadata": {},
   "source": [
    "# Question 3: III. How do offered salaries compare to the prevailing wage?\n",
    "> \tAre there job sub-categories that tend to get over-paid or under-paid?\n",
    "> \tAre there companies that tend to over-pay or under-pay?\n",
    "> \tWill the answer change if I take standard of living into account?"
   ]
  },
  {
   "cell_type": "code",
   "execution_count": 1,
   "id": "5deacfbf",
   "metadata": {},
   "outputs": [],
   "source": [
    "import pandas as pd\n",
    "import numpy as np\n",
    "import matplotlib.pyplot as plt\n",
    "import seaborn as sns"
   ]
  },
  {
   "cell_type": "code",
   "execution_count": 2,
   "id": "f7c52a36",
   "metadata": {},
   "outputs": [],
   "source": [
    "salary_df = pd.read_excel('salary_data_states.xlsx')"
   ]
  },
  {
   "cell_type": "code",
   "execution_count": null,
   "id": "591399c3",
   "metadata": {},
   "outputs": [],
   "source": []
  }
 ],
 "metadata": {
  "kernelspec": {
   "display_name": "Python 3",
   "language": "python",
   "name": "python3"
  },
  "language_info": {
   "codemirror_mode": {
    "name": "ipython",
    "version": 3
   },
   "file_extension": ".py",
   "mimetype": "text/x-python",
   "name": "python",
   "nbconvert_exporter": "python",
   "pygments_lexer": "ipython3",
   "version": "3.8.8"
  }
 },
 "nbformat": 4,
 "nbformat_minor": 5
}
