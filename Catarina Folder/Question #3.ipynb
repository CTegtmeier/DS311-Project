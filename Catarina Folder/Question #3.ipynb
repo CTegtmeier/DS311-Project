{
 "cells": [
  {
   "cell_type": "markdown",
   "id": "a0a662e4",
   "metadata": {},
   "source": [
    "# Question 3: III. How do offered salaries compare to the prevailing wage?\n",
    "> \tAre there job sub-categories that tend to get over-paid or under-paid?\n",
    "> \tAre there companies that tend to over-pay or under-pay?\n",
    "> \tWill the answer change if I take standard of living into account?"
   ]
  },
  {
   "cell_type": "code",
   "execution_count": 1,
   "id": "5deacfbf",
   "metadata": {},
   "outputs": [],
   "source": [
    "import pandas as pd\n",
    "import numpy as np\n",
    "import matplotlib.pyplot as plt\n",
    "import seaborn as sns\n",
    "\n",
    "#As we're working with salaries here, decided to limit numbers to 2 decimal points\n",
    "pd.set_option('display.float_format', lambda x: '%.2f' % x)"
   ]
  },
  {
   "cell_type": "code",
   "execution_count": 2,
   "id": "006298aa",
   "metadata": {},
   "outputs": [],
   "source": [
    "salary_df = pd.read_excel('salary_data_states.xlsx')"
   ]
  },
  {
   "cell_type": "code",
   "execution_count": 3,
   "id": "a0ff25a3",
   "metadata": {},
   "outputs": [
    {
     "data": {
      "text/plain": [
       "Index(['CASE_NUMBER', 'CASE_STATUS', 'CASE_RECEIVED_DATE', 'DECISION_DATE',\n",
       "       'EMPLOYER_NAME', 'PREVAILING_WAGE_SUBMITTED',\n",
       "       'PREVAILING_WAGE_SUBMITTED_UNIT', 'PAID_WAGE_SUBMITTED',\n",
       "       'PAID_WAGE_SUBMITTED_UNIT', 'JOB_TITLE', 'WORK_CITY',\n",
       "       'EDUCATION_LEVEL_REQUIRED', 'COLLEGE_MAJOR_REQUIRED',\n",
       "       'EXPERIENCE_REQUIRED_Y_N', 'EXPERIENCE_REQUIRED_NUM_MONTHS',\n",
       "       'COUNTRY_OF_CITIZENSHIP', 'PREVAILING_WAGE_SOC_CODE',\n",
       "       'PREVAILING_WAGE_SOC_TITLE', 'WORK_STATE', 'WORK_STATE_ABBREVIATION',\n",
       "       'WORK_POSTAL_CODE', 'FULL_TIME_POSITION_Y_N', 'VISA_CLASS',\n",
       "       'PREVAILING_WAGE_PER_YEAR', 'PAID_WAGE_PER_YEAR', 'JOB_TITLE_SUBGROUP',\n",
       "       'order'],\n",
       "      dtype='object')"
      ]
     },
     "execution_count": 3,
     "metadata": {},
     "output_type": "execute_result"
    }
   ],
   "source": [
    "salary_df.columns"
   ]
  },
  {
   "cell_type": "markdown",
   "id": "88a02d41",
   "metadata": {},
   "source": [
    "For the first part of the question, useful columns would be JOB_TITLE_SUBGROUP, JOB_TITLE, and the difference between PREVAILING_WAGE_SUBMITTED and PAID_WAGE_SUBMITTED. Prevailing wage is the expected wage for a position, while the paid wage it what is actually offered and accepted after negotiations. Job title subgroup contains broader terms (such as business analyst), which we will be restricting to business analyst, data analyst, data scientist, management consultant, software engineer."
   ]
  },
  {
   "cell_type": "code",
   "execution_count": 4,
   "id": "06b84ada",
   "metadata": {},
   "outputs": [
    {
     "data": {
      "text/plain": [
       "software engineer        99364\n",
       "business analyst         27811\n",
       "assistant professor      18866\n",
       "teacher                  13912\n",
       "data analyst              3840\n",
       "attorney                  1488\n",
       "data scientist            1227\n",
       "management consultant      770\n",
       "Name: JOB_TITLE_SUBGROUP, dtype: int64"
      ]
     },
     "execution_count": 4,
     "metadata": {},
     "output_type": "execute_result"
    }
   ],
   "source": [
    "salary_df['JOB_TITLE_SUBGROUP'].value_counts()"
   ]
  },
  {
   "cell_type": "code",
   "execution_count": 5,
   "id": "39cea351",
   "metadata": {},
   "outputs": [],
   "source": [
    "#filtering the salary df by relevant categories\n",
    "jobs_df = salary_df.filter(['JOB_TITLE_SUBGROUP', 'JOB_TITLE', 'PREVAILING_WAGE_SUBMITTED', 'PAID_WAGE_SUBMITTED'])"
   ]
  },
  {
   "cell_type": "code",
   "execution_count": 6,
   "id": "8e804dda",
   "metadata": {},
   "outputs": [
    {
     "name": "stdout",
     "output_type": "stream",
     "text": [
      "       JOB_TITLE_SUBGROUP                            JOB_TITLE  \\\n",
      "0       software engineer                    SOFTWARE ENGINEER   \n",
      "4       software engineer             SENIOR SOFTWARE ENGINEER   \n",
      "5        business analyst  ORACLE SCM ANALYST/BUSINESS ANALYST   \n",
      "6       software engineer             SENIOR SOFTWARE ENGINEER   \n",
      "7       software engineer                    SOFTWARE ENGINEER   \n",
      "...                   ...                                  ...   \n",
      "167015  software engineer           SOFTWARE ENGINEER & TESTER   \n",
      "167052   business analyst                     BUSINESS ANALYST   \n",
      "167053   business analyst                     BUSINESS ANALYST   \n",
      "167115       data analyst                         DATA ANALYST   \n",
      "167233   business analyst          ENTERPRISE BUSINESS ANALYST   \n",
      "\n",
      "        PREVAILING_WAGE_SUBMITTED  PAID_WAGE_SUBMITTED  \n",
      "0                      6217100.00             62171.00  \n",
      "4                        84573.00            170000.00  \n",
      "5                       113610.00            114421.00  \n",
      "6                      1333328.00            145000.00  \n",
      "7                       104458.00            104458.00  \n",
      "...                           ...                  ...  \n",
      "167015                   19677.00             49800.00  \n",
      "167052                       9.22                17.31  \n",
      "167053                       9.22                17.31  \n",
      "167115                   18658.00             38000.00  \n",
      "167233                       8.00             56638.40  \n",
      "\n",
      "[133012 rows x 4 columns]\n"
     ]
    }
   ],
   "source": [
    "#These are the only jobs we are interested in\n",
    "options = ['software engineer', 'business analyst', 'data analyst', 'data scientist', 'management consultant']\n",
    "\n",
    "#filtering by certain jobs in job title subgroup\n",
    "fltr_jobs = jobs_df[jobs_df['JOB_TITLE_SUBGROUP'].isin(options)]\n",
    "\n",
    "print(fltr_jobs)"
   ]
  },
  {
   "cell_type": "markdown",
   "id": "f9101b56",
   "metadata": {},
   "source": [
    "Now that we have filtered our data set, it is time to do some actual analysis!"
   ]
  },
  {
   "cell_type": "code",
   "execution_count": 7,
   "id": "f8120483",
   "metadata": {},
   "outputs": [
    {
     "data": {
      "text/html": [
       "<div>\n",
       "<style scoped>\n",
       "    .dataframe tbody tr th:only-of-type {\n",
       "        vertical-align: middle;\n",
       "    }\n",
       "\n",
       "    .dataframe tbody tr th {\n",
       "        vertical-align: top;\n",
       "    }\n",
       "\n",
       "    .dataframe thead th {\n",
       "        text-align: right;\n",
       "    }\n",
       "</style>\n",
       "<table border=\"1\" class=\"dataframe\">\n",
       "  <thead>\n",
       "    <tr style=\"text-align: right;\">\n",
       "      <th></th>\n",
       "      <th>PREVAILING_WAGE_SUBMITTED</th>\n",
       "      <th>PAID_WAGE_SUBMITTED</th>\n",
       "    </tr>\n",
       "  </thead>\n",
       "  <tbody>\n",
       "    <tr>\n",
       "      <th>count</th>\n",
       "      <td>133012.00</td>\n",
       "      <td>133012.00</td>\n",
       "    </tr>\n",
       "    <tr>\n",
       "      <th>mean</th>\n",
       "      <td>76659.65</td>\n",
       "      <td>84230.42</td>\n",
       "    </tr>\n",
       "    <tr>\n",
       "      <th>std</th>\n",
       "      <td>33625.90</td>\n",
       "      <td>33568.01</td>\n",
       "    </tr>\n",
       "    <tr>\n",
       "      <th>min</th>\n",
       "      <td>8.00</td>\n",
       "      <td>10.00</td>\n",
       "    </tr>\n",
       "    <tr>\n",
       "      <th>25%</th>\n",
       "      <td>60611.00</td>\n",
       "      <td>65000.00</td>\n",
       "    </tr>\n",
       "    <tr>\n",
       "      <th>50%</th>\n",
       "      <td>74651.00</td>\n",
       "      <td>80000.00</td>\n",
       "    </tr>\n",
       "    <tr>\n",
       "      <th>75%</th>\n",
       "      <td>93662.00</td>\n",
       "      <td>102486.04</td>\n",
       "    </tr>\n",
       "    <tr>\n",
       "      <th>max</th>\n",
       "      <td>6217100.00</td>\n",
       "      <td>1400000.00</td>\n",
       "    </tr>\n",
       "  </tbody>\n",
       "</table>\n",
       "</div>"
      ],
      "text/plain": [
       "       PREVAILING_WAGE_SUBMITTED  PAID_WAGE_SUBMITTED\n",
       "count                  133012.00            133012.00\n",
       "mean                    76659.65             84230.42\n",
       "std                     33625.90             33568.01\n",
       "min                         8.00                10.00\n",
       "25%                     60611.00             65000.00\n",
       "50%                     74651.00             80000.00\n",
       "75%                     93662.00            102486.04\n",
       "max                   6217100.00           1400000.00"
      ]
     },
     "execution_count": 7,
     "metadata": {},
     "output_type": "execute_result"
    }
   ],
   "source": [
    "fltr_jobs.describe()"
   ]
  },
  {
   "cell_type": "markdown",
   "id": "74d0c2aa",
   "metadata": {},
   "source": [
    "There are clearly some outliers here in salary, so lets figure out what they are. Although the IQR is depicted above, we should write code that will calculate it instead of copy-pasting."
   ]
  },
  {
   "cell_type": "code",
   "execution_count": 13,
   "id": "a0706035",
   "metadata": {},
   "outputs": [
    {
     "data": {
      "text/plain": [
       "PREVAILING_WAGE_SUBMITTED   33051.00\n",
       "PAID_WAGE_SUBMITTED         37486.04\n",
       "dtype: float64"
      ]
     },
     "execution_count": 13,
     "metadata": {},
     "output_type": "execute_result"
    }
   ],
   "source": [
    "#function to find IQR\n",
    "def find_iqr(x):\n",
    "  return np.subtract(*np.percentile(x, [75, 25]))\n",
    "\n",
    "def upper_fence(x):\n",
    "    \n",
    "\n",
    "def lower_fence(x):\n",
    "    #\n",
    "\n",
    "#applies IQR fn to columns\n",
    "fltr_jobs[['PREVAILING_WAGE_SUBMITTED', 'PAID_WAGE_SUBMITTED']].apply(find_iqr)\n",
    "\n"
   ]
  },
  {
   "cell_type": "code",
   "execution_count": 12,
   "id": "953c9d71",
   "metadata": {},
   "outputs": [
    {
     "data": {
      "text/plain": [
       "<AxesSubplot:>"
      ]
     },
     "execution_count": 12,
     "metadata": {},
     "output_type": "execute_result"
    },
    {
     "data": {
      "image/png": "[encoded data removed]",
      "text/plain": [
       "<Figure size 432x288 with 1 Axes>"
      ]
     },
     "metadata": {
      "needs_background": "light"
     },
     "output_type": "display_data"
    }
   ],
   "source": [
    "#ltr_jobs.boxplot(column = ['PREVAILING_WAGE_SUBMITTED', 'PAID_WAGE_SUBMITTED'])"
   ]
  },
  {
   "cell_type": "code",
   "execution_count": null,
   "id": "1201b99b",
   "metadata": {},
   "outputs": [],
   "source": []
  }
 ],
 "metadata": {
  "kernelspec": {
   "display_name": "Python 3",
   "language": "python",
   "name": "python3"
  },
  "language_info": {
   "codemirror_mode": {
    "name": "ipython",
    "version": 3
   },
   "file_extension": ".py",
   "mimetype": "text/x-python",
   "name": "python",
   "nbconvert_exporter": "python",
   "pygments_lexer": "ipython3",
   "version": "3.8.8"
  }
 },
 "nbformat": 4,
 "nbformat_minor": 5
}
