{
 "cells": [
  {
   "cell_type": "markdown",
   "id": "a0a662e4",
   "metadata": {},
   "source": [
    "# Question 3: III. How do offered salaries compare to the prevailing wage?\n",
    "> \tAre there job sub-categories that tend to get over-paid or under-paid?\n",
    "> \tAre there companies that tend to over-pay or under-pay?\n",
    "> \tWill the answer change if I take standard of living into account?"
   ]
  },
  {
   "cell_type": "code",
   "execution_count": 1,
   "id": "5deacfbf",
   "metadata": {},
   "outputs": [],
   "source": [
    "import pandas as pd\n",
    "import numpy as np\n",
    "import matplotlib.pyplot as plt\n",
    "import seaborn as sns\n",
    "\n",
    "#As we're working with salaries here, decided to limit numbers to 2 decimal points\n",
    "pd.set_option('display.float_format', lambda x: '%.2f' % x)"
   ]
  },
  {
   "cell_type": "code",
   "execution_count": 2,
   "id": "006298aa",
   "metadata": {},
   "outputs": [],
   "source": [
    "salary_df = pd.read_excel('salary_data_states.xlsx')"
   ]
  },
  {
   "cell_type": "code",
   "execution_count": 3,
   "id": "a0ff25a3",
   "metadata": {},
   "outputs": [
    {
     "data": {
      "text/plain": [
       "Index(['CASE_NUMBER', 'CASE_STATUS', 'CASE_RECEIVED_DATE', 'DECISION_DATE',\n",
       "       'EMPLOYER_NAME', 'PREVAILING_WAGE_SUBMITTED',\n",
       "       'PREVAILING_WAGE_SUBMITTED_UNIT', 'PAID_WAGE_SUBMITTED',\n",
       "       'PAID_WAGE_SUBMITTED_UNIT', 'JOB_TITLE', 'WORK_CITY',\n",
       "       'EDUCATION_LEVEL_REQUIRED', 'COLLEGE_MAJOR_REQUIRED',\n",
       "       'EXPERIENCE_REQUIRED_Y_N', 'EXPERIENCE_REQUIRED_NUM_MONTHS',\n",
       "       'COUNTRY_OF_CITIZENSHIP', 'PREVAILING_WAGE_SOC_CODE',\n",
       "       'PREVAILING_WAGE_SOC_TITLE', 'WORK_STATE', 'WORK_STATE_ABBREVIATION',\n",
       "       'WORK_POSTAL_CODE', 'FULL_TIME_POSITION_Y_N', 'VISA_CLASS',\n",
       "       'PREVAILING_WAGE_PER_YEAR', 'PAID_WAGE_PER_YEAR', 'JOB_TITLE_SUBGROUP',\n",
       "       'order'],\n",
       "      dtype='object')"
      ]
     },
     "execution_count": 3,
     "metadata": {},
     "output_type": "execute_result"
    }
   ],
   "source": [
    "salary_df.columns"
   ]
  },
  {
   "cell_type": "markdown",
   "id": "3ab58489",
   "metadata": {},
   "source": [
    "For the first part of the question, useful columns would be JOB_TITLE_SUBGROUP, JOB_TITLE, and the difference between PREVAILING_WAGE_SUBMITTED and PAID_WAGE_SUBMITTED. Prevailing wage is the expected wage for a position, while the paid wage it what is actually offered and accepted after negotiations. Job title subgroup contains broader terms (such as business analyst), which we will be restricting to business analyst, data analyst, data scientist, management consultant, software engineer."
   ]
  },
  {
   "cell_type": "code",
   "execution_count": 4,
   "id": "98e06e7c",
   "metadata": {},
   "outputs": [
    {
     "data": {
      "text/plain": [
       "software engineer        99364\n",
       "business analyst         27811\n",
       "assistant professor      18866\n",
       "teacher                  13912\n",
       "data analyst              3840\n",
       "attorney                  1488\n",
       "data scientist            1227\n",
       "management consultant      770\n",
       "Name: JOB_TITLE_SUBGROUP, dtype: int64"
      ]
     },
     "execution_count": 4,
     "metadata": {},
     "output_type": "execute_result"
    }
   ],
   "source": [
    "salary_df['JOB_TITLE_SUBGROUP'].value_counts()"
   ]
  },
  {
   "cell_type": "code",
   "execution_count": 5,
   "id": "24215319",
   "metadata": {},
   "outputs": [],
   "source": [
    "#filtering the salary df by relevant categories\n",
    "jobs_df = salary_df.filter(['JOB_TITLE_SUBGROUP', 'JOB_TITLE', 'PREVAILING_WAGE_SUBMITTED', 'PAID_WAGE_SUBMITTED'])"
   ]
  },
  {
   "cell_type": "markdown",
   "id": "e7afbd0d",
   "metadata": {},
   "source": [
    "Now that we have filtered our data set, it is time to do some actual analysis!"
   ]
  },
  {
   "cell_type": "code",
   "execution_count": 15,
   "id": "8e804dda",
   "metadata": {},
   "outputs": [
    {
     "name": "stdout",
     "output_type": "stream",
     "text": [
      "       JOB_TITLE_SUBGROUP                            JOB_TITLE  \\\n",
      "0       software engineer                    SOFTWARE ENGINEER   \n",
      "4       software engineer             SENIOR SOFTWARE ENGINEER   \n",
      "5        business analyst  ORACLE SCM ANALYST/BUSINESS ANALYST   \n",
      "6       software engineer             SENIOR SOFTWARE ENGINEER   \n",
      "7       software engineer                    SOFTWARE ENGINEER   \n",
      "...                   ...                                  ...   \n",
      "167015  software engineer           SOFTWARE ENGINEER & TESTER   \n",
      "167052   business analyst                     BUSINESS ANALYST   \n",
      "167053   business analyst                     BUSINESS ANALYST   \n",
      "167115       data analyst                         DATA ANALYST   \n",
      "167233   business analyst          ENTERPRISE BUSINESS ANALYST   \n",
      "\n",
      "        PREVAILING_WAGE_SUBMITTED  PAID_WAGE_SUBMITTED  \n",
      "0                      6217100.00             62171.00  \n",
      "4                        84573.00            170000.00  \n",
      "5                       113610.00            114421.00  \n",
      "6                      1333328.00            145000.00  \n",
      "7                       104458.00            104458.00  \n",
      "...                           ...                  ...  \n",
      "167015                   19677.00             49800.00  \n",
      "167052                       9.22                17.31  \n",
      "167053                       9.22                17.31  \n",
      "167115                   18658.00             38000.00  \n",
      "167233                       8.00             56638.40  \n",
      "\n",
      "[133012 rows x 4 columns]\n"
     ]
    }
   ],
   "source": [
    "#These are the only jobs we are interested in\n",
    "options = ['software engineer', 'business analyst', 'data analyst', 'data scientist', 'management consultant']\n",
    "\n",
    "#filtering by certain jobs in job title subgroup\n",
    "df = jobs_df[jobs_df['JOB_TITLE_SUBGROUP'].isin(options)]\n",
    "\n",
    "print(df)"
   ]
  },
  {
   "cell_type": "code",
   "execution_count": 19,
   "id": "08c3962d",
   "metadata": {},
   "outputs": [
    {
     "data": {
      "text/plain": [
       "JOB_TITLE_SUBGROUP           0\n",
       "JOB_TITLE                    0\n",
       "PREVAILING_WAGE_SUBMITTED    0\n",
       "PAID_WAGE_SUBMITTED          0\n",
       "dtype: int64"
      ]
     },
     "execution_count": 19,
     "metadata": {},
     "output_type": "execute_result"
    }
   ],
   "source": [
    "#check for empty values\n",
    "df.isna().sum()"
   ]
  },
  {
   "cell_type": "code",
   "execution_count": 16,
   "id": "51921010",
   "metadata": {},
   "outputs": [
    {
     "data": {
      "text/html": [
       "<div>\n",
       "<style scoped>\n",
       "    .dataframe tbody tr th:only-of-type {\n",
       "        vertical-align: middle;\n",
       "    }\n",
       "\n",
       "    .dataframe tbody tr th {\n",
       "        vertical-align: top;\n",
       "    }\n",
       "\n",
       "    .dataframe thead th {\n",
       "        text-align: right;\n",
       "    }\n",
       "</style>\n",
       "<table border=\"1\" class=\"dataframe\">\n",
       "  <thead>\n",
       "    <tr style=\"text-align: right;\">\n",
       "      <th></th>\n",
       "      <th>PREVAILING_WAGE_SUBMITTED</th>\n",
       "      <th>PAID_WAGE_SUBMITTED</th>\n",
       "    </tr>\n",
       "  </thead>\n",
       "  <tbody>\n",
       "    <tr>\n",
       "      <th>count</th>\n",
       "      <td>133012.00</td>\n",
       "      <td>133012.00</td>\n",
       "    </tr>\n",
       "    <tr>\n",
       "      <th>mean</th>\n",
       "      <td>76659.65</td>\n",
       "      <td>84230.42</td>\n",
       "    </tr>\n",
       "    <tr>\n",
       "      <th>std</th>\n",
       "      <td>33625.90</td>\n",
       "      <td>33568.01</td>\n",
       "    </tr>\n",
       "    <tr>\n",
       "      <th>min</th>\n",
       "      <td>8.00</td>\n",
       "      <td>10.00</td>\n",
       "    </tr>\n",
       "    <tr>\n",
       "      <th>25%</th>\n",
       "      <td>60611.00</td>\n",
       "      <td>65000.00</td>\n",
       "    </tr>\n",
       "    <tr>\n",
       "      <th>50%</th>\n",
       "      <td>74651.00</td>\n",
       "      <td>80000.00</td>\n",
       "    </tr>\n",
       "    <tr>\n",
       "      <th>75%</th>\n",
       "      <td>93662.00</td>\n",
       "      <td>102486.04</td>\n",
       "    </tr>\n",
       "    <tr>\n",
       "      <th>max</th>\n",
       "      <td>6217100.00</td>\n",
       "      <td>1400000.00</td>\n",
       "    </tr>\n",
       "  </tbody>\n",
       "</table>\n",
       "</div>"
      ],
      "text/plain": [
       "       PREVAILING_WAGE_SUBMITTED  PAID_WAGE_SUBMITTED\n",
       "count                  133012.00            133012.00\n",
       "mean                    76659.65             84230.42\n",
       "std                     33625.90             33568.01\n",
       "min                         8.00                10.00\n",
       "25%                     60611.00             65000.00\n",
       "50%                     74651.00             80000.00\n",
       "75%                     93662.00            102486.04\n",
       "max                   6217100.00           1400000.00"
      ]
     },
     "execution_count": 16,
     "metadata": {},
     "output_type": "execute_result"
    }
   ],
   "source": [
    "#get an idea on the actual values\n",
    "df.describe()"
   ]
  },
  {
   "cell_type": "markdown",
   "id": "14074ff1",
   "metadata": {},
   "source": [
    "There are clearly some outliers here in salary, so lets figure out what they are. Although the IQR is depicted above, we should write code that will calculate it instead of copy-pasting."
   ]
  },
  {
   "cell_type": "code",
   "execution_count": 25,
   "id": "68bb909c",
   "metadata": {},
   "outputs": [
    {
     "name": "stdout",
     "output_type": "stream",
     "text": [
      "11034.5\n",
      "143238.5\n"
     ]
    }
   ],
   "source": [
    "Q1 = df['PREVAILING_WAGE_SUBMITTED'].quantile(0.25)\n",
    "Q3 = df['PREVAILING_WAGE_SUBMITTED'].quantile(0.75)\n",
    "IQR = Q3 - Q1\n",
    "Lower_Fence = Q1 - (1.5 * IQR)\n",
    "Upper_Fence = Q3 + (1.5 * IQR)\n",
    "\n",
    "print(Lower_Fence)\n",
    "print(Upper_Fence)"
   ]
  },
  {
   "cell_type": "code",
   "execution_count": 26,
   "id": "0b2db08a",
   "metadata": {},
   "outputs": [
    {
     "name": "stdout",
     "output_type": "stream",
     "text": [
      "11034.5\n",
      "143238.5\n"
     ]
    }
   ],
   "source": [
    "Q1a = df['PAID_WAGE_SUBMITTED'].quantile(0.25)\n",
    "Q3a = df['PAID_WAGE_SUBMITTED'].quantile(0.75)\n",
    "IQRa = Q3 - Q1\n",
    "Lower_Fence_a = Q1 - (1.5 * IQR)\n",
    "Upper_Fence_a = Q3 + (1.5 * IQR)\n",
    "\n",
    "print(Lower_Fence_a)\n",
    "print(Upper_Fence_a)"
   ]
  },
  {
   "cell_type": "markdown",
   "id": "bc79070a",
   "metadata": {},
   "source": [
    "Although the above code is pretty ugly, both results are the same, so that makes life a little easier. We can use those fences to exclude any outliers. Time to filter more and make a graph:"
   ]
  },
  {
   "cell_type": "code",
   "execution_count": 27,
   "id": "5a469c47",
   "metadata": {},
   "outputs": [
    {
     "data": {
      "text/plain": [
       "<AxesSubplot:>"
      ]
     },
     "execution_count": 27,
     "metadata": {},
     "output_type": "execute_result"
    },
    {
     "data": {
      "image/png": "[encoded data removed]",
      "text/plain": [
       "<Figure size 432x288 with 1 Axes>"
      ]
     },
     "metadata": {
      "needs_background": "light"
     },
     "output_type": "display_data"
    }
   ],
   "source": [
    "#current data with outliers graph\n",
    "df.boxplot(column = ['PREVAILING_WAGE_SUBMITTED', 'PAID_WAGE_SUBMITTED'])"
   ]
  },
  {
   "cell_type": "markdown",
   "id": "6e4cc45d",
   "metadata": {},
   "source": [
    "so ugly! let's filter that set"
   ]
  },
  {
   "cell_type": "markdown",
   "id": "f1d55f03",
   "metadata": {},
   "source": [
    "fdf = df[(df['PREVAILING_WAGE_SUBMITTED'] >= Lower_Fence) &\n",
    "        df['PREVAILING_WAGE_SUBMITTED'] <= Upper_Fence]\n",
    "print(fdf)"
   ]
  },
  {
   "cell_type": "code",
   "execution_count": 59,
   "id": "903503bd",
   "metadata": {},
   "outputs": [
    {
     "name": "stdout",
     "output_type": "stream",
     "text": [
      "       JOB_TITLE_SUBGROUP                            JOB_TITLE  \\\n",
      "5        business analyst  ORACLE SCM ANALYST/BUSINESS ANALYST   \n",
      "7       software engineer                    SOFTWARE ENGINEER   \n",
      "9       software engineer                    SOFTWARE ENGINEER   \n",
      "10      software engineer                SR. SOFTWARE ENGINEER   \n",
      "12      software engineer                    SOFTWARE ENGINEER   \n",
      "...                   ...                                  ...   \n",
      "167012       data analyst                         DATA ANALYST   \n",
      "167013   business analyst                     BUSINESS ANALYST   \n",
      "167014  software engineer           SOFTWARE ENGINEER & TESTER   \n",
      "167015  software engineer           SOFTWARE ENGINEER & TESTER   \n",
      "167115       data analyst                         DATA ANALYST   \n",
      "\n",
      "        PREVAILING_WAGE_SUBMITTED  PAID_WAGE_SUBMITTED  \n",
      "5                       113610.00            114421.00  \n",
      "7                       104458.00            104458.00  \n",
      "9                        98675.00             98675.00  \n",
      "10                       98654.00            110000.00  \n",
      "12                       90460.00             90460.00  \n",
      "...                           ...                  ...  \n",
      "167012                   19677.00             60000.00  \n",
      "167013                   19677.00             60000.00  \n",
      "167014                   19677.00             49800.00  \n",
      "167015                   19677.00             49800.00  \n",
      "167115                   18658.00             38000.00  \n",
      "\n",
      "[122914 rows x 4 columns]\n"
     ]
    }
   ],
   "source": [
    "fdf = df[(df['PREVAILING_WAGE_SUBMITTED'] >= Lower_Fence) &\n",
    "        (df['PREVAILING_WAGE_SUBMITTED'] <= Upper_Fence) &\n",
    "        (df['PAID_WAGE_SUBMITTED'] >= Lower_Fence) &\n",
    "        (df['PAID_WAGE_SUBMITTED'] <= Upper_Fence)]\n",
    "\n",
    "#fdf2 = df[(df['PAID_WAGE_SUBMITTED'] >= Lower_Fence) &\n",
    "      #  (df['PAID_WAGE_SUBMITTED'] <= Upper_Fence)]\n",
    "print(fdf)"
   ]
  },
  {
   "cell_type": "code",
   "execution_count": 62,
   "id": "fc4679a9",
   "metadata": {},
   "outputs": [
    {
     "ename": "AttributeError",
     "evalue": "'DataFrame' object has no attribute 'scatterplot'",
     "output_type": "error",
     "traceback": [
      "\u001b[1;31m---------------------------------------------------------------------------\u001b[0m",
      "\u001b[1;31mAttributeError\u001b[0m                            Traceback (most recent call last)",
      "\u001b[1;32m<ipython-input-62-6191cd872548>\u001b[0m in \u001b[0;36m<module>\u001b[1;34m\u001b[0m\n\u001b[0;32m      3\u001b[0m \u001b[0mfdf\u001b[0m\u001b[1;33m.\u001b[0m\u001b[0mboxplot\u001b[0m\u001b[1;33m(\u001b[0m\u001b[0mcolumn\u001b[0m \u001b[1;33m=\u001b[0m \u001b[1;33m[\u001b[0m\u001b[1;34m'PREVAILING_WAGE_SUBMITTED'\u001b[0m\u001b[1;33m,\u001b[0m \u001b[1;34m'PAID_WAGE_SUBMITTED'\u001b[0m\u001b[1;33m]\u001b[0m\u001b[1;33m)\u001b[0m\u001b[1;33m\u001b[0m\u001b[1;33m\u001b[0m\u001b[0m\n\u001b[0;32m      4\u001b[0m \u001b[1;33m\u001b[0m\u001b[0m\n\u001b[1;32m----> 5\u001b[1;33m \u001b[0mfdf\u001b[0m\u001b[1;33m.\u001b[0m\u001b[0mscatterplot\u001b[0m\u001b[1;33m(\u001b[0m\u001b[0mcolumn\u001b[0m \u001b[1;33m=\u001b[0m \u001b[1;33m[\u001b[0m\u001b[1;34m'PREVAILING_WAGE_SUBMITTED'\u001b[0m\u001b[1;33m,\u001b[0m \u001b[1;34m'PAID_WAGE_SUBMITTED'\u001b[0m\u001b[1;33m]\u001b[0m\u001b[1;33m)\u001b[0m\u001b[1;33m\u001b[0m\u001b[1;33m\u001b[0m\u001b[0m\n\u001b[0m",
      "\u001b[1;32m~\\anaconda3\\lib\\site-packages\\pandas\\core\\generic.py\u001b[0m in \u001b[0;36m__getattr__\u001b[1;34m(self, name)\u001b[0m\n\u001b[0;32m   5463\u001b[0m             \u001b[1;32mif\u001b[0m \u001b[0mself\u001b[0m\u001b[1;33m.\u001b[0m\u001b[0m_info_axis\u001b[0m\u001b[1;33m.\u001b[0m\u001b[0m_can_hold_identifiers_and_holds_name\u001b[0m\u001b[1;33m(\u001b[0m\u001b[0mname\u001b[0m\u001b[1;33m)\u001b[0m\u001b[1;33m:\u001b[0m\u001b[1;33m\u001b[0m\u001b[1;33m\u001b[0m\u001b[0m\n\u001b[0;32m   5464\u001b[0m                 \u001b[1;32mreturn\u001b[0m \u001b[0mself\u001b[0m\u001b[1;33m[\u001b[0m\u001b[0mname\u001b[0m\u001b[1;33m]\u001b[0m\u001b[1;33m\u001b[0m\u001b[1;33m\u001b[0m\u001b[0m\n\u001b[1;32m-> 5465\u001b[1;33m             \u001b[1;32mreturn\u001b[0m \u001b[0mobject\u001b[0m\u001b[1;33m.\u001b[0m\u001b[0m__getattribute__\u001b[0m\u001b[1;33m(\u001b[0m\u001b[0mself\u001b[0m\u001b[1;33m,\u001b[0m \u001b[0mname\u001b[0m\u001b[1;33m)\u001b[0m\u001b[1;33m\u001b[0m\u001b[1;33m\u001b[0m\u001b[0m\n\u001b[0m\u001b[0;32m   5466\u001b[0m \u001b[1;33m\u001b[0m\u001b[0m\n\u001b[0;32m   5467\u001b[0m     \u001b[1;32mdef\u001b[0m \u001b[0m__setattr__\u001b[0m\u001b[1;33m(\u001b[0m\u001b[0mself\u001b[0m\u001b[1;33m,\u001b[0m \u001b[0mname\u001b[0m\u001b[1;33m:\u001b[0m \u001b[0mstr\u001b[0m\u001b[1;33m,\u001b[0m \u001b[0mvalue\u001b[0m\u001b[1;33m)\u001b[0m \u001b[1;33m->\u001b[0m \u001b[1;32mNone\u001b[0m\u001b[1;33m:\u001b[0m\u001b[1;33m\u001b[0m\u001b[1;33m\u001b[0m\u001b[0m\n",
      "\u001b[1;31mAttributeError\u001b[0m: 'DataFrame' object has no attribute 'scatterplot'"
     ]
    },
    {
     "data": {
      "image/png": "[encoded data removed]",
      "text/plain": [
       "<Figure size 432x288 with 1 Axes>"
      ]
     },
     "metadata": {
      "needs_background": "light"
     },
     "output_type": "display_data"
    }
   ],
   "source": [
    "#fig, ax = plt.subplots()\n",
    "\n",
    "fdf.boxplot(column = ['PREVAILING_WAGE_SUBMITTED', 'PAID_WAGE_SUBMITTED'])\n"
   ]
  },
  {
   "cell_type": "code",
   "execution_count": null,
   "id": "d489e657",
   "metadata": {},
   "outputs": [],
   "source": []
  },
  {
   "cell_type": "code",
   "execution_count": null,
   "id": "7e13f497",
   "metadata": {},
   "outputs": [],
   "source": []
  }
 ],
 "metadata": {
  "kernelspec": {
   "display_name": "Python 3",
   "language": "python",
   "name": "python3"
  },
  "language_info": {
   "codemirror_mode": {
    "name": "ipython",
    "version": 3
   },
   "file_extension": ".py",
   "mimetype": "text/x-python",
   "name": "python",
   "nbconvert_exporter": "python",
   "pygments_lexer": "ipython3",
   "version": "3.8.8"
  }
 },
 "nbformat": 4,
 "nbformat_minor": 5
}
